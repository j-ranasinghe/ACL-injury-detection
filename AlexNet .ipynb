{
  "nbformat": 4,
  "nbformat_minor": 0,
  "metadata": {
    "colab": {
      "provenance": [],
      "gpuType": "T4"
    },
    "kernelspec": {
      "name": "python3",
      "display_name": "Python 3"
    },
    "language_info": {
      "name": "python"
    },
    "accelerator": "GPU"
  },
  "cells": [
    {
      "metadata": {
        "id": "mLKZi1moxywE"
      },
      "cell_type": "markdown",
      "source": [
        "# **Detection of ACL injuries using AlexNet**  - 2019\n",
        "\n",
        "\n",
        "*   Dataset used is [MRNet](https://stanfordmlgroup.github.io/competitions/mrnet/)\n",
        "\n",
        "\n"
      ]
    },
    {
      "cell_type": "code",
      "source": [
        "# Libraries\n",
        "from matplotlib import pyplot as plt\n",
        "from matplotlib.animation import PillowWriter\n",
        "from torch.utils import data\n",
        "from sklearn import metrics\n",
        "from tqdm import tqdm\n",
        "import torchvision.models as models\n",
        "import torchvision.transforms as T\n",
        "import tensorflow.compat.v1 as tf\n",
        "tf.disable_v2_behavior()\n",
        "import matplotlib.animation as animation\n",
        "import imgaug.augmenters as iaa\n",
        "import torch.nn as nn\n",
        "import pandas as pd\n",
        "import numpy as np\n",
        "import torch\n",
        "import cv2\n",
        "import os\n",
        "from   google.colab import drive"
      ],
      "metadata": {
        "id": "3opIKt4EyM8F",
        "colab": {
          "base_uri": "https://localhost:8080/"
        },
        "outputId": "4e73ddfe-179b-4426-8803-2c352ebe712d"
      },
      "execution_count": 1,
      "outputs": [
        {
          "output_type": "stream",
          "name": "stderr",
          "text": [
            "WARNING:tensorflow:From /usr/local/lib/python3.10/dist-packages/tensorflow/python/compat/v2_compat.py:98: disable_resource_variables (from tensorflow.python.ops.resource_variables_toggle) is deprecated and will be removed in a future version.\n",
            "Instructions for updating:\n",
            "non-resource variables are not supported in the long term\n"
          ]
        }
      ]
    },
    {
      "cell_type": "code",
      "source": [
        "# Constants\n",
        "MRNET_PATH           = '/content/drive/MyDrive/MRNet-v1.0/'\n",
        "TRAIN_PATH           = '/content/drive/MyDrive/MRNet-v1.0/train/'\n",
        "VAL_PATH             = '/content/drive/MyDrive/MRNet-v1.0/valid/'\n",
        "BATCH_SIZE = 1\n",
        "RANDOM_STATE = 1234\n",
        "EPOCHS = 50\n",
        "PATIENT = 10\n",
        "LOSS_IMPROVE = 1e-04\n",
        "MAX_PIXEL_VALUE = 255"
      ],
      "metadata": {
        "id": "BIu_QY1ozge0"
      },
      "execution_count": 3,
      "outputs": []
    },
    {
      "cell_type": "code",
      "source": [
        "# Specify seeds for reproducibility\n",
        "torch.manual_seed(RANDOM_STATE)\n",
        "torch.cuda.manual_seed(RANDOM_STATE)\n",
        "np.random.seed(RANDOM_STATE)\n",
        "torch.backends.cudnn.deterministic = True"
      ],
      "metadata": {
        "id": "T4MBt6bmzj0q"
      },
      "execution_count": 4,
      "outputs": []
    },
    {
      "cell_type": "code",
      "source": [
        "# Load Stanford MRI Dataset\n",
        "train_df_abnormal = pd.read_csv(MRNET_PATH + 'train-abnormal.csv', header=None)\n",
        "train_df_acl = pd.read_csv(MRNET_PATH + 'train-acl.csv', header=None)\n",
        "train_df_meniscus = pd.read_csv(MRNET_PATH + 'train-meniscus.csv', header=None)\n",
        "\n",
        "valid_df_abnormal = pd.read_csv(MRNET_PATH + 'valid-abnormal.csv', header=None)\n",
        "valid_df_acl = pd.read_csv(MRNET_PATH + 'valid-acl.csv', header=None)\n",
        "valid_df_meniscus = pd.read_csv(MRNET_PATH + 'valid-meniscus.csv', header=None)\n",
        "\n",
        "train_df = pd.concat([train_df_abnormal, train_df_acl[1], train_df_meniscus[1]], axis=1).drop_duplicates()\n",
        "valid_df = pd.concat([valid_df_abnormal, valid_df_acl[1], valid_df_meniscus[1]], axis=1).drop_duplicates()\n",
        "train_df.columns = ['Image', 'Abnormal', 'ACL', 'Meniscus']\n",
        "valid_df.columns = ['Image', 'Abnormal', 'ACL', 'Meniscus']\n",
        "\n",
        "pd.concat([train_df, valid_df], axis=0).reset_index(drop=True).to_csv(MRNET_PATH + '/knee_metadata.csv')"
      ],
      "metadata": {
        "id": "pmCPiHfHzmOM"
      },
      "execution_count": 5,
      "outputs": []
    },
    {
      "cell_type": "code",
      "source": [
        "# Define MRDataset class\n",
        "class MRDataset(data.Dataset):\n",
        "    def __init__(self, transform=False, train=True, train_index_limit=1130):\n",
        "        super().__init__()\n",
        "        self.transform = transform\n",
        "        self.train = train\n",
        "        self.records = pd.read_csv(MRNET_PATH + '/knee_metadata.csv')\n",
        "        self.train_index_limit = train_index_limit\n",
        "        self.planes = ['axial', 'sagittal', 'coronal']\n",
        "        self.image_path = {}\n",
        "\n",
        "        if self.train:\n",
        "            for plane in self.planes:\n",
        "                self.image_path[plane] = TRAIN_PATH + '/{0}/'.format(plane)\n",
        "            self.records = self.records.iloc[0:self.train_index_limit, :]\n",
        "        else:\n",
        "            for plane in self.planes:\n",
        "                self.image_path[plane] = VAL_PATH + '/{0}/'.format(plane)\n",
        "            self.records = self.records.iloc[self.train_index_limit:, :]\n",
        "\n",
        "        self.records['Image'] = self.records['Image'].map(lambda i: '0' * (4 - len(str(i))) + str(i))\n",
        "        self.paths = {}\n",
        "        for plane in self.planes:\n",
        "            self.paths[plane] = [self.image_path[plane] + filename + '.npy' for filename in self.records['Image'].tolist()]\n",
        "\n",
        "        self.labels = self.records[['Abnormal', 'ACL', 'Meniscus']].values\n",
        "        weights_ = []\n",
        "        for disease in list(range(0, 3)):\n",
        "            pos = sum(self.labels[:, disease])\n",
        "            neg = len(self.labels[:, disease]) - pos\n",
        "            weights_.append(neg / pos)\n",
        "        self.weights = torch.FloatTensor(weights_)\n",
        "\n",
        "    def __len__(self):\n",
        "        return len(self.records)\n",
        "\n",
        "    def __getitem__(self, index):\n",
        "        transform = iaa.Sequential([\n",
        "            iaa.Fliplr(0.5),\n",
        "            iaa.Affine(\n",
        "                translate_percent={\"x\": (-0.11, 0.11), \"y\": (-0.11, 0.11)},\n",
        "                scale={\"x\": (1, 1.2), \"y\": (1, 1.2)},\n",
        "                rotate=(-10, 10)\n",
        "            )\n",
        "        ])\n",
        "\n",
        "        img_raw = {}\n",
        "        for plane in self.planes:\n",
        "            img_raw[plane] = np.load(self.paths[plane][index])\n",
        "            img_raw[plane] = (img_raw[plane]) / MAX_PIXEL_VALUE\n",
        "            if self.transform:\n",
        "                img_raw_transformed = transform(images=img_raw[plane])\n",
        "                img_raw[plane] = np.stack((img_raw_transformed,) * 3, axis=1)\n",
        "            else:\n",
        "                img_raw[plane] = np.stack((img_raw[plane],) * 3, axis=1)\n",
        "\n",
        "            img_raw[plane] = torch.FloatTensor(img_raw[plane])\n",
        "\n",
        "        label = self.labels[index]\n",
        "        label = torch.FloatTensor(label)\n",
        "        return [img_raw[plane] for plane in self.planes], label\n"
      ],
      "metadata": {
        "id": "HFssr6DozpmH"
      },
      "execution_count": 6,
      "outputs": []
    },
    {
      "cell_type": "code",
      "source": [
        "# Get dataset\n",
        "train_dataset = MRDataset(transform=True)\n",
        "val_dataset = MRDataset(train=False)\n",
        "\n",
        "train_loader = torch.utils.data.DataLoader(train_dataset, batch_size=BATCH_SIZE, shuffle=True, drop_last=False, num_workers=2)\n",
        "val_loader = torch.utils.data.DataLoader(val_dataset, batch_size=BATCH_SIZE, shuffle=False, drop_last=False, num_workers=2)"
      ],
      "metadata": {
        "id": "FYkKUftozry5"
      },
      "execution_count": 7,
      "outputs": []
    },
    {
      "cell_type": "code",
      "source": [
        "# Build Conv2D model\n",
        "class CNNModel(nn.Module):\n",
        "    def __init__(self):\n",
        "        super(CNNModel, self).__init__()\n",
        "        self.axial = models.alexnet(pretrained=True, progress=False).features\n",
        "        self.sagittal = models.alexnet(pretrained=True, progress=False).features\n",
        "        self.coronal = models.alexnet(pretrained=True, progress=False).features\n",
        "        self.features_conv_axial = self.axial[:12]\n",
        "        self.features_conv_sagittal = self.sagittal[:12]\n",
        "        self.features_conv_coronal = self.coronal[:12]\n",
        "        self.max_pool = nn.MaxPool2d(kernel_size=3, stride=2, padding=0, dilation=1, ceil_mode=False)\n",
        "        self.avg_pool_axial = nn.AdaptiveAvgPool2d(1)\n",
        "        self.avg_pool_sagittal = nn.AdaptiveAvgPool2d(1)\n",
        "        self.avg_pool_coronal = nn.AdaptiveAvgPool2d(1)\n",
        "        self.gradients_axial = None\n",
        "        self.gradients_sagittal = None\n",
        "        self.gradients_coronal = None\n",
        "        self.fc = nn.Sequential(nn.Linear(in_features=3 * 256, out_features=3))\n",
        "\n",
        "    def activations_hook_axial(self, grad):\n",
        "        self.gradients_axial = grad\n",
        "\n",
        "    def activations_hook_sagittal(self, grad):\n",
        "        self.gradients_sagittal = grad\n",
        "\n",
        "    def activations_hook_coronal(self, grad):\n",
        "        self.gradients_coronal = grad\n",
        "\n",
        "    def forward(self, x):\n",
        "        images = [torch.squeeze(img, dim=0) for img in x]\n",
        "        image1 = self.features_conv_axial(images[0])\n",
        "        image2 = self.features_conv_sagittal(images[1])\n",
        "        image3 = self.features_conv_coronal(images[2])\n",
        "        h_axial = image1.register_hook(self.activations_hook_axial)\n",
        "        h_sagittal = image2.register_hook(self.activations_hook_sagittal)\n",
        "        h_coronal = image3.register_hook(self.activations_hook_coronal)\n",
        "        image1 = self.max_pool(image1)\n",
        "        image2 = self.max_pool(image2)\n",
        "        image3 = self.max_pool(image3)\n",
        "        image1 = self.avg_pool_axial(image1).view(image1.size(0), -1)\n",
        "        image2 = self.avg_pool_sagittal(image2).view(image2.size(0), -1)\n",
        "        image3 = self.avg_pool_coronal(image3).view(image3.size(0), -1)\n",
        "        image1 = torch.max(image1, dim=0, keepdim=True)[0]\n",
        "        image2 = torch.max(image2, dim=0, keepdim=True)[0]\n",
        "        image3 = torch.max(image3, dim=0, keepdim=True)[0]\n",
        "        output = torch.cat([image1, image2, image3], dim=1)\n",
        "        output = self.fc(output)\n",
        "        return output\n",
        "\n",
        "    def get_activations_gradient(self):\n",
        "        return [self.gradients_axial, self.gradients_sagittal, self.gradients_coronal]\n",
        "\n",
        "    def get_activations(self, x):\n",
        "        images = [torch.squeeze(img, dim=0) for img in x]\n",
        "        return [self.features_conv_axial(images[0]), self.features_conv_sagittal(images[1]), self.features_conv_coronal(images[2])]\n",
        "\n",
        "# Initialize model\n",
        "model = CNNModel()"
      ],
      "metadata": {
        "id": "gsggqc-9zuVc",
        "outputId": "811127a2-1546-4cbf-aaf5-7f2e137fd85c",
        "colab": {
          "base_uri": "https://localhost:8080/"
        }
      },
      "execution_count": 8,
      "outputs": [
        {
          "output_type": "stream",
          "name": "stderr",
          "text": [
            "/usr/local/lib/python3.10/dist-packages/torchvision/models/_utils.py:208: UserWarning: The parameter 'pretrained' is deprecated since 0.13 and may be removed in the future, please use 'weights' instead.\n",
            "  warnings.warn(\n",
            "/usr/local/lib/python3.10/dist-packages/torchvision/models/_utils.py:223: UserWarning: Arguments other than a weight enum or `None` for 'weights' are deprecated since 0.13 and may be removed in the future. The current behavior is equivalent to passing `weights=AlexNet_Weights.IMAGENET1K_V1`. You can also use `weights=AlexNet_Weights.DEFAULT` to get the most up-to-date weights.\n",
            "  warnings.warn(msg)\n",
            "Downloading: \"https://download.pytorch.org/models/alexnet-owt-7be5be79.pth\" to /root/.cache/torch/hub/checkpoints/alexnet-owt-7be5be79.pth\n"
          ]
        }
      ]
    },
    {
      "cell_type": "code",
      "source": [
        "# Define error criterion and optimize functions\n",
        "train_criterion = nn.BCEWithLogitsLoss(pos_weight=train_dataset.weights)\n",
        "val_criterion = nn.BCEWithLogitsLoss(pos_weight=val_dataset.weights)\n",
        "optimizer = torch.optim.Adam(model.parameters(), lr=1e-05)\n",
        "scheduler = torch.optim.lr_scheduler.ReduceLROnPlateau(optimizer, patience=3, factor=0.3, threshold=1e-4, verbose=True)"
      ],
      "metadata": {
        "id": "Sm2niiYYzwfg",
        "outputId": "329c163f-ebd9-4ace-feab-7fa6fabe860a",
        "colab": {
          "base_uri": "https://localhost:8080/"
        }
      },
      "execution_count": 9,
      "outputs": [
        {
          "output_type": "stream",
          "name": "stderr",
          "text": [
            "/usr/local/lib/python3.10/dist-packages/torch/optim/lr_scheduler.py:62: UserWarning: The verbose parameter is deprecated. Please use get_last_lr() to access the learning rate.\n",
            "  warnings.warn(\n"
          ]
        }
      ]
    },
    {
      "cell_type": "code",
      "source": [
        "# Get Sensitivity-Specificity metrics\n",
        "def get_sensitivity_specificity(y_true, y_pred):\n",
        "    abnormal_true = list(map(lambda x: x[0], y_true))\n",
        "    abnormal_pred = list(map(lambda x: x[0], y_pred))\n",
        "    ACL_true = list(map(lambda x: x[1], y_true))\n",
        "    ACL_pred = list(map(lambda x: x[1], y_pred))\n",
        "    meniscus_true = list(map(lambda x: x[2], y_true))\n",
        "    meniscus_pred = list(map(lambda x: x[2], y_pred))\n",
        "    tn_ab, fp_ab, fn_ab, tp_ab = metrics.confusion_matrix(abnormal_true, abnormal_pred).ravel()\n",
        "    tn_acl, fp_acl, fn_acl, tp_acl = metrics.confusion_matrix(ACL_true, ACL_pred).ravel()\n",
        "    tn_men, fp_men, fn_men, tp_men = metrics.confusion_matrix(meniscus_true, meniscus_pred).ravel()\n",
        "    sensitivity = [round(tp_ab / (tp_ab + fn_ab), 4), round(tp_acl / (tp_acl + fn_acl), 4), round(tp_men / (tp_men + fn_men), 4)]\n",
        "    specificity = [round(tn_ab / (tn_ab + fp_ab), 4), round(tn_acl / (tn_acl + fp_acl), 4), round(tn_men / (tn_men + fp_men), 4)]\n",
        "    return sensitivity, specificity"
      ],
      "metadata": {
        "id": "V9pXIBwvzy5l"
      },
      "execution_count": 10,
      "outputs": []
    },
    {
      "cell_type": "code",
      "source": [
        "# Define train function\n",
        "def train(train_data, model, criterion):\n",
        "    print('Training...')\n",
        "    model.train()\n",
        "    counter = 0\n",
        "    correct = 0\n",
        "    train_running_loss = 0.0\n",
        "    total = 0.0\n",
        "    prediction_list = []\n",
        "    label_list = []\n",
        "    for input_data, label in tqdm(train_data):\n",
        "        if torch.cuda.is_available():\n",
        "            input_data, label = [data.cuda() for data in input_data], label.cuda()\n",
        "        counter += 1\n",
        "        optimizer.zero_grad()\n",
        "        outputs = model(input_data)\n",
        "        outputs_sig = torch.sigmoid(outputs)\n",
        "        predicted = torch.round(outputs_sig)\n",
        "        prediction_list.append(list(predicted.cpu().detach().numpy())[0])\n",
        "        label_list.append(list(label.cpu().detach().numpy())[0])\n",
        "        total += label.size(1)\n",
        "        correct += (np.array(predicted.cpu().detach().numpy())[0] == np.array(label.cpu().detach().numpy())[0]).sum().item()\n",
        "        loss = criterion(outputs.cpu(), label.cpu())\n",
        "        train_running_loss += loss.item()\n",
        "        loss.backward()\n",
        "        optimizer.step()\n",
        "    train_accuracy = correct / total\n",
        "    train_loss = train_running_loss / counter\n",
        "    train_auc = metrics.roc_auc_score(label_list, prediction_list, average='macro', multi_class='ovr')\n",
        "    return train_loss, train_accuracy, train_auc, prediction_list"
      ],
      "metadata": {
        "id": "V0pYaRMfz17C"
      },
      "execution_count": 11,
      "outputs": []
    },
    {
      "cell_type": "code",
      "source": [
        "# Define val function\n",
        "def val(val_data, model, criterion):\n",
        "    print('Validating...')\n",
        "    model.eval()\n",
        "    counter = 0\n",
        "    correct = 0\n",
        "    val_running_loss = 0.0\n",
        "    total = 0.0\n",
        "    prediction_list = []\n",
        "    label_list = []\n",
        "    for input_data, label in tqdm(val_data):\n",
        "        if torch.cuda.is_available():\n",
        "            input_data, label = [data.cuda() for data in input_data], label.cuda()\n",
        "        counter += 1\n",
        "        outputs = model(input_data)\n",
        "        outputs_sig = torch.sigmoid(outputs)\n",
        "        predicted = torch.round(outputs_sig)\n",
        "        prediction_list.append(list(predicted.cpu().detach().numpy())[0])\n",
        "        label_list.append(list(label.cpu().detach().numpy())[0])\n",
        "        total += label.size(1)\n",
        "        correct += (np.array(predicted.cpu().detach().numpy())[0] == np.array(label.cpu().detach().numpy())[0]).sum().item()\n",
        "        loss = criterion(outputs.cpu(), label.cpu())\n",
        "        val_running_loss += loss.item()\n",
        "    val_accuracy = correct / total\n",
        "    val_loss = val_running_loss / counter\n",
        "    val_auc = metrics.roc_auc_score(label_list, prediction_list, average='macro', multi_class='ovr')\n",
        "    sensitivity, specificity = get_sensitivity_specificity(label_list, prediction_list)\n",
        "    return val_loss, val_accuracy, val_auc, prediction_list, sensitivity, specificity\n"
      ],
      "metadata": {
        "id": "gtVwLoGQz4d3"
      },
      "execution_count": 12,
      "outputs": []
    },
    {
      "cell_type": "code",
      "source": [
        "# Early Stopping Parameters\n",
        "best_val_loss = float('inf')\n",
        "patient_counter = 0\n",
        "early_stopping_patience = PATIENT\n",
        "\n",
        "# Metrics Storage\n",
        "train_loss = []\n",
        "train_accuracy = []\n",
        "train_auc = []\n",
        "valid_loss = []\n",
        "valid_accuracy = []\n",
        "valid_auc = []\n",
        "\n",
        "if torch.cuda.is_available():\n",
        "    model = model.cuda()\n",
        "\n",
        "print(\"Starting Training...\")\n",
        "\n",
        "for epoch in range(EPOCHS):\n",
        "    print(f\"Epoch {epoch+1} of {EPOCHS}\")\n",
        "    train_epoch_loss, train_epoch_accuracy, train_epoch_auc, train_predictions = train(train_loader, model, train_criterion)\n",
        "    val_epoch_loss, val_epoch_accuracy, val_epoch_auc, val_predictions, val_sensitivity, val_specificity = val(val_loader, model, val_criterion)\n",
        "    scheduler.step(val_epoch_loss)\n",
        "\n",
        "    # Check for improvement\n",
        "    if val_epoch_loss < best_val_loss - LOSS_IMPROVE:\n",
        "        print(f\"Val loss improved from {best_val_loss:.4f} to {val_epoch_loss:.4f}. Saving model...\")\n",
        "        best_val_loss = val_epoch_loss\n",
        "        patient_counter = 0\n",
        "        torch.save(model.state_dict(), f'{MRNET_PATH}/models/best_model.pth')\n",
        "    else:\n",
        "        print(\"Val loss did not improve\")\n",
        "        patient_counter += 1\n",
        "        if patient_counter >= early_stopping_patience:\n",
        "            print(\"Early stopping triggered. Training halted.\")\n",
        "            break\n",
        "\n",
        "    # Append metrics\n",
        "    train_loss.append(train_epoch_loss)\n",
        "    train_accuracy.append(train_epoch_accuracy)\n",
        "    train_auc.append(train_epoch_auc)\n",
        "    valid_loss.append(val_epoch_loss)\n",
        "    valid_accuracy.append(val_epoch_accuracy)\n",
        "    valid_auc.append(val_epoch_auc)\n",
        "\n",
        "    # Log metrics\n",
        "    print(f\"Train Acc: {train_epoch_accuracy:.4f} | Val Acc: {val_epoch_accuracy:.4f}\")\n",
        "    print(f\"Train Loss: {train_epoch_loss:.4f} | Val Loss: {val_epoch_loss:.4f}\")\n",
        "    print(f\"Train AUC: {train_epoch_auc:.4f} | Val AUC: {val_epoch_auc:.4f}\")\n",
        "    print(\"Val-Sensitivity. Abnormal: {:.4f}, ACL: {:.4f}, Meniscus: {:.4f}\".format(*val_sensitivity))\n",
        "    print(\"Val-Specificity. Abnormal: {:.4f}, ACL: {:.4f}, Meniscus: {:.4f}\".format(*val_specificity))\n",
        "    print(\"-\" * 80)"
      ],
      "metadata": {
        "colab": {
          "base_uri": "https://localhost:8080/"
        },
        "id": "mz24W1x0Hren",
        "outputId": "693de5a2-c223-40ea-bb02-ceed7e649466"
      },
      "execution_count": 14,
      "outputs": [
        {
          "output_type": "stream",
          "name": "stdout",
          "text": [
            "Starting Training...\n",
            "Epoch 1 of 50\n",
            "Training...\n"
          ]
        },
        {
          "output_type": "stream",
          "name": "stderr",
          "text": [
            "100%|██████████| 1130/1130 [15:48<00:00,  1.19it/s]\n"
          ]
        },
        {
          "output_type": "stream",
          "name": "stdout",
          "text": [
            "Validating...\n"
          ]
        },
        {
          "output_type": "stream",
          "name": "stderr",
          "text": [
            "100%|██████████| 120/120 [02:39<00:00,  1.33s/it]\n"
          ]
        },
        {
          "output_type": "stream",
          "name": "stdout",
          "text": [
            "Val loss improved from inf to 0.5460. Saving model...\n",
            "Train Acc: 0.6729 | Val Acc: 0.6944\n",
            "Train Loss: 0.6931 | Val Loss: 0.5460\n",
            "Train AUC: 0.6569 | Val AUC: 0.6547\n",
            "Val-Sensitivity. Abnormal: 0.9368, ACL: 0.4444, Meniscus: 0.9615\n",
            "Val-Specificity. Abnormal: 0.4400, ACL: 0.9394, Meniscus: 0.2059\n",
            "--------------------------------------------------------------------------------\n",
            "Epoch 2 of 50\n",
            "Training...\n"
          ]
        },
        {
          "output_type": "stream",
          "name": "stderr",
          "text": [
            "100%|██████████| 1130/1130 [06:38<00:00,  2.84it/s]\n"
          ]
        },
        {
          "output_type": "stream",
          "name": "stdout",
          "text": [
            "Validating...\n"
          ]
        },
        {
          "output_type": "stream",
          "name": "stderr",
          "text": [
            "100%|██████████| 120/120 [00:24<00:00,  4.85it/s]\n"
          ]
        },
        {
          "output_type": "stream",
          "name": "stdout",
          "text": [
            "Val loss improved from 0.5460 to 0.4912. Saving model...\n",
            "Train Acc: 0.7218 | Val Acc: 0.7611\n",
            "Train Loss: 0.6428 | Val Loss: 0.4912\n",
            "Train AUC: 0.7128 | Val AUC: 0.7455\n",
            "Val-Sensitivity. Abnormal: 0.8632, ACL: 0.5000, Meniscus: 0.6346\n",
            "Val-Specificity. Abnormal: 0.8000, ACL: 0.9545, Meniscus: 0.7206\n",
            "--------------------------------------------------------------------------------\n",
            "Epoch 3 of 50\n",
            "Training...\n"
          ]
        },
        {
          "output_type": "stream",
          "name": "stderr",
          "text": [
            "100%|██████████| 1130/1130 [06:44<00:00,  2.80it/s]\n"
          ]
        },
        {
          "output_type": "stream",
          "name": "stdout",
          "text": [
            "Validating...\n"
          ]
        },
        {
          "output_type": "stream",
          "name": "stderr",
          "text": [
            "100%|██████████| 120/120 [00:27<00:00,  4.29it/s]\n"
          ]
        },
        {
          "output_type": "stream",
          "name": "stdout",
          "text": [
            "Val loss improved from 0.4912 to 0.4596. Saving model...\n",
            "Train Acc: 0.7463 | Val Acc: 0.7583\n",
            "Train Loss: 0.5995 | Val Loss: 0.4596\n",
            "Train AUC: 0.7401 | Val AUC: 0.7606\n",
            "Val-Sensitivity. Abnormal: 0.8105, ACL: 0.6296, Meniscus: 0.6731\n",
            "Val-Specificity. Abnormal: 0.8800, ACL: 0.8939, Meniscus: 0.6765\n",
            "--------------------------------------------------------------------------------\n",
            "Epoch 4 of 50\n",
            "Training...\n"
          ]
        },
        {
          "output_type": "stream",
          "name": "stderr",
          "text": [
            "100%|██████████| 1130/1130 [06:39<00:00,  2.83it/s]\n"
          ]
        },
        {
          "output_type": "stream",
          "name": "stdout",
          "text": [
            "Validating...\n"
          ]
        },
        {
          "output_type": "stream",
          "name": "stderr",
          "text": [
            "100%|██████████| 120/120 [00:27<00:00,  4.37it/s]\n"
          ]
        },
        {
          "output_type": "stream",
          "name": "stdout",
          "text": [
            "Val loss did not improve\n",
            "Train Acc: 0.7507 | Val Acc: 0.7667\n",
            "Train Loss: 0.5830 | Val Loss: 0.4639\n",
            "Train AUC: 0.7544 | Val AUC: 0.7455\n",
            "Val-Sensitivity. Abnormal: 0.9053, ACL: 0.5185, Meniscus: 0.6731\n",
            "Val-Specificity. Abnormal: 0.7600, ACL: 0.9394, Meniscus: 0.6765\n",
            "--------------------------------------------------------------------------------\n",
            "Epoch 5 of 50\n",
            "Training...\n"
          ]
        },
        {
          "output_type": "stream",
          "name": "stderr",
          "text": [
            "100%|██████████| 1130/1130 [06:40<00:00,  2.82it/s]\n"
          ]
        },
        {
          "output_type": "stream",
          "name": "stdout",
          "text": [
            "Validating...\n"
          ]
        },
        {
          "output_type": "stream",
          "name": "stderr",
          "text": [
            "100%|██████████| 120/120 [00:23<00:00,  5.09it/s]\n"
          ]
        },
        {
          "output_type": "stream",
          "name": "stdout",
          "text": [
            "Val loss did not improve\n",
            "Train Acc: 0.7575 | Val Acc: 0.7500\n",
            "Train Loss: 0.5680 | Val Loss: 0.4685\n",
            "Train AUC: 0.7635 | Val AUC: 0.7152\n",
            "Val-Sensitivity. Abnormal: 0.9579, ACL: 0.7593, Meniscus: 0.9231\n",
            "Val-Specificity. Abnormal: 0.4800, ACL: 0.8030, Meniscus: 0.3676\n",
            "--------------------------------------------------------------------------------\n",
            "Epoch 6 of 50\n",
            "Training...\n"
          ]
        },
        {
          "output_type": "stream",
          "name": "stderr",
          "text": [
            "100%|██████████| 1130/1130 [06:41<00:00,  2.81it/s]\n"
          ]
        },
        {
          "output_type": "stream",
          "name": "stdout",
          "text": [
            "Validating...\n"
          ]
        },
        {
          "output_type": "stream",
          "name": "stderr",
          "text": [
            "100%|██████████| 120/120 [00:24<00:00,  4.88it/s]\n"
          ]
        },
        {
          "output_type": "stream",
          "name": "stdout",
          "text": [
            "Val loss improved from 0.4596 to 0.4514. Saving model...\n",
            "Train Acc: 0.7699 | Val Acc: 0.7750\n",
            "Train Loss: 0.5600 | Val Loss: 0.4514\n",
            "Train AUC: 0.7761 | Val AUC: 0.7340\n",
            "Val-Sensitivity. Abnormal: 0.9579, ACL: 0.7778, Meniscus: 0.8269\n",
            "Val-Specificity. Abnormal: 0.4800, ACL: 0.7879, Meniscus: 0.5735\n",
            "--------------------------------------------------------------------------------\n",
            "Epoch 7 of 50\n",
            "Training...\n"
          ]
        },
        {
          "output_type": "stream",
          "name": "stderr",
          "text": [
            "100%|██████████| 1130/1130 [06:50<00:00,  2.75it/s]\n"
          ]
        },
        {
          "output_type": "stream",
          "name": "stdout",
          "text": [
            "Validating...\n"
          ]
        },
        {
          "output_type": "stream",
          "name": "stderr",
          "text": [
            "100%|██████████| 120/120 [00:24<00:00,  4.93it/s]\n"
          ]
        },
        {
          "output_type": "stream",
          "name": "stdout",
          "text": [
            "Val loss did not improve\n",
            "Train Acc: 0.7776 | Val Acc: 0.7611\n",
            "Train Loss: 0.5394 | Val Loss: 0.4633\n",
            "Train AUC: 0.7829 | Val AUC: 0.7349\n",
            "Val-Sensitivity. Abnormal: 0.8842, ACL: 0.5556, Meniscus: 0.4615\n",
            "Val-Specificity. Abnormal: 0.7600, ACL: 0.9394, Meniscus: 0.8088\n",
            "--------------------------------------------------------------------------------\n",
            "Epoch 8 of 50\n",
            "Training...\n"
          ]
        },
        {
          "output_type": "stream",
          "name": "stderr",
          "text": [
            "100%|██████████| 1130/1130 [06:50<00:00,  2.76it/s]\n"
          ]
        },
        {
          "output_type": "stream",
          "name": "stdout",
          "text": [
            "Validating...\n"
          ]
        },
        {
          "output_type": "stream",
          "name": "stderr",
          "text": [
            "100%|██████████| 120/120 [00:26<00:00,  4.60it/s]\n"
          ]
        },
        {
          "output_type": "stream",
          "name": "stdout",
          "text": [
            "Val loss did not improve\n",
            "Train Acc: 0.7737 | Val Acc: 0.7889\n",
            "Train Loss: 0.5241 | Val Loss: 0.4612\n",
            "Train AUC: 0.7832 | Val AUC: 0.7452\n",
            "Val-Sensitivity. Abnormal: 0.9579, ACL: 0.6852, Meniscus: 0.8654\n",
            "Val-Specificity. Abnormal: 0.4800, ACL: 0.9091, Meniscus: 0.5735\n",
            "--------------------------------------------------------------------------------\n",
            "Epoch 9 of 50\n",
            "Training...\n"
          ]
        },
        {
          "output_type": "stream",
          "name": "stderr",
          "text": [
            "100%|██████████| 1130/1130 [06:54<00:00,  2.73it/s]\n"
          ]
        },
        {
          "output_type": "stream",
          "name": "stdout",
          "text": [
            "Validating...\n"
          ]
        },
        {
          "output_type": "stream",
          "name": "stderr",
          "text": [
            "100%|██████████| 120/120 [00:24<00:00,  4.84it/s]\n"
          ]
        },
        {
          "output_type": "stream",
          "name": "stdout",
          "text": [
            "Val loss improved from 0.4514 to 0.4302. Saving model...\n",
            "Train Acc: 0.7817 | Val Acc: 0.7861\n",
            "Train Loss: 0.5145 | Val Loss: 0.4302\n",
            "Train AUC: 0.7881 | Val AUC: 0.7625\n",
            "Val-Sensitivity. Abnormal: 0.9263, ACL: 0.7407, Meniscus: 0.8462\n",
            "Val-Specificity. Abnormal: 0.6400, ACL: 0.8333, Meniscus: 0.5882\n",
            "--------------------------------------------------------------------------------\n",
            "Epoch 10 of 50\n",
            "Training...\n"
          ]
        },
        {
          "output_type": "stream",
          "name": "stderr",
          "text": [
            "100%|██████████| 1130/1130 [06:43<00:00,  2.80it/s]\n"
          ]
        },
        {
          "output_type": "stream",
          "name": "stdout",
          "text": [
            "Validating...\n"
          ]
        },
        {
          "output_type": "stream",
          "name": "stderr",
          "text": [
            "100%|██████████| 120/120 [00:26<00:00,  4.52it/s]\n"
          ]
        },
        {
          "output_type": "stream",
          "name": "stdout",
          "text": [
            "Val loss did not improve\n",
            "Train Acc: 0.7912 | Val Acc: 0.7389\n",
            "Train Loss: 0.4960 | Val Loss: 0.4937\n",
            "Train AUC: 0.8014 | Val AUC: 0.7067\n",
            "Val-Sensitivity. Abnormal: 0.9368, ACL: 0.7037, Meniscus: 0.9615\n",
            "Val-Specificity. Abnormal: 0.4800, ACL: 0.8788, Meniscus: 0.2794\n",
            "--------------------------------------------------------------------------------\n",
            "Epoch 11 of 50\n",
            "Training...\n"
          ]
        },
        {
          "output_type": "stream",
          "name": "stderr",
          "text": [
            "100%|██████████| 1130/1130 [06:38<00:00,  2.83it/s]\n"
          ]
        },
        {
          "output_type": "stream",
          "name": "stdout",
          "text": [
            "Validating...\n"
          ]
        },
        {
          "output_type": "stream",
          "name": "stderr",
          "text": [
            "100%|██████████| 120/120 [00:25<00:00,  4.78it/s]\n"
          ]
        },
        {
          "output_type": "stream",
          "name": "stdout",
          "text": [
            "Val loss did not improve\n",
            "Train Acc: 0.7885 | Val Acc: 0.7917\n",
            "Train Loss: 0.4907 | Val Loss: 0.4441\n",
            "Train AUC: 0.7975 | Val AUC: 0.7454\n",
            "Val-Sensitivity. Abnormal: 0.9474, ACL: 0.6852, Meniscus: 0.7885\n",
            "Val-Specificity. Abnormal: 0.4800, ACL: 0.9242, Meniscus: 0.6471\n",
            "--------------------------------------------------------------------------------\n",
            "Epoch 12 of 50\n",
            "Training...\n"
          ]
        },
        {
          "output_type": "stream",
          "name": "stderr",
          "text": [
            "100%|██████████| 1130/1130 [06:40<00:00,  2.82it/s]\n"
          ]
        },
        {
          "output_type": "stream",
          "name": "stdout",
          "text": [
            "Validating...\n"
          ]
        },
        {
          "output_type": "stream",
          "name": "stderr",
          "text": [
            "100%|██████████| 120/120 [00:26<00:00,  4.54it/s]\n"
          ]
        },
        {
          "output_type": "stream",
          "name": "stdout",
          "text": [
            "Val loss improved from 0.4302 to 0.4227. Saving model...\n",
            "Train Acc: 0.7962 | Val Acc: 0.7944\n",
            "Train Loss: 0.4791 | Val Loss: 0.4227\n",
            "Train AUC: 0.8036 | Val AUC: 0.7840\n",
            "Val-Sensitivity. Abnormal: 0.9263, ACL: 0.7593, Meniscus: 0.8654\n",
            "Val-Specificity. Abnormal: 0.7600, ACL: 0.8636, Meniscus: 0.5294\n",
            "--------------------------------------------------------------------------------\n",
            "Epoch 13 of 50\n",
            "Training...\n"
          ]
        },
        {
          "output_type": "stream",
          "name": "stderr",
          "text": [
            "100%|██████████| 1130/1130 [06:35<00:00,  2.86it/s]\n"
          ]
        },
        {
          "output_type": "stream",
          "name": "stdout",
          "text": [
            "Validating...\n"
          ]
        },
        {
          "output_type": "stream",
          "name": "stderr",
          "text": [
            "100%|██████████| 120/120 [00:25<00:00,  4.72it/s]\n"
          ]
        },
        {
          "output_type": "stream",
          "name": "stdout",
          "text": [
            "Val loss improved from 0.4227 to 0.4202. Saving model...\n",
            "Train Acc: 0.7997 | Val Acc: 0.8056\n",
            "Train Loss: 0.4738 | Val Loss: 0.4202\n",
            "Train AUC: 0.8140 | Val AUC: 0.7809\n",
            "Val-Sensitivity. Abnormal: 0.9263, ACL: 0.7222, Meniscus: 0.6731\n",
            "Val-Specificity. Abnormal: 0.7200, ACL: 0.8788, Meniscus: 0.7647\n",
            "--------------------------------------------------------------------------------\n",
            "Epoch 14 of 50\n",
            "Training...\n"
          ]
        },
        {
          "output_type": "stream",
          "name": "stderr",
          "text": [
            "100%|██████████| 1130/1130 [06:33<00:00,  2.87it/s]\n"
          ]
        },
        {
          "output_type": "stream",
          "name": "stdout",
          "text": [
            "Validating...\n"
          ]
        },
        {
          "output_type": "stream",
          "name": "stderr",
          "text": [
            "100%|██████████| 120/120 [00:25<00:00,  4.68it/s]\n"
          ]
        },
        {
          "output_type": "stream",
          "name": "stdout",
          "text": [
            "Val loss improved from 0.4202 to 0.4118. Saving model...\n",
            "Train Acc: 0.8147 | Val Acc: 0.8000\n",
            "Train Loss: 0.4580 | Val Loss: 0.4118\n",
            "Train AUC: 0.8266 | Val AUC: 0.7822\n",
            "Val-Sensitivity. Abnormal: 0.9263, ACL: 0.7407, Meniscus: 0.7115\n",
            "Val-Specificity. Abnormal: 0.7600, ACL: 0.8636, Meniscus: 0.6912\n",
            "--------------------------------------------------------------------------------\n",
            "Epoch 15 of 50\n",
            "Training...\n"
          ]
        },
        {
          "output_type": "stream",
          "name": "stderr",
          "text": [
            "100%|██████████| 1130/1130 [06:36<00:00,  2.85it/s]\n"
          ]
        },
        {
          "output_type": "stream",
          "name": "stdout",
          "text": [
            "Validating...\n"
          ]
        },
        {
          "output_type": "stream",
          "name": "stderr",
          "text": [
            "100%|██████████| 120/120 [00:25<00:00,  4.66it/s]\n"
          ]
        },
        {
          "output_type": "stream",
          "name": "stdout",
          "text": [
            "Val loss did not improve\n",
            "Train Acc: 0.8121 | Val Acc: 0.8083\n",
            "Train Loss: 0.4547 | Val Loss: 0.4133\n",
            "Train AUC: 0.8211 | Val AUC: 0.7768\n",
            "Val-Sensitivity. Abnormal: 0.9368, ACL: 0.8333, Meniscus: 0.7500\n",
            "Val-Specificity. Abnormal: 0.6000, ACL: 0.8788, Meniscus: 0.6618\n",
            "--------------------------------------------------------------------------------\n",
            "Epoch 16 of 50\n",
            "Training...\n"
          ]
        },
        {
          "output_type": "stream",
          "name": "stderr",
          "text": [
            "100%|██████████| 1130/1130 [06:40<00:00,  2.82it/s]\n"
          ]
        },
        {
          "output_type": "stream",
          "name": "stdout",
          "text": [
            "Validating...\n"
          ]
        },
        {
          "output_type": "stream",
          "name": "stderr",
          "text": [
            "100%|██████████| 120/120 [00:26<00:00,  4.58it/s]\n"
          ]
        },
        {
          "output_type": "stream",
          "name": "stdout",
          "text": [
            "Val loss did not improve\n",
            "Train Acc: 0.8192 | Val Acc: 0.7806\n",
            "Train Loss: 0.4386 | Val Loss: 0.4651\n",
            "Train AUC: 0.8293 | Val AUC: 0.7313\n",
            "Val-Sensitivity. Abnormal: 0.9579, ACL: 0.5556, Meniscus: 0.8077\n",
            "Val-Specificity. Abnormal: 0.4800, ACL: 0.9545, Meniscus: 0.6324\n",
            "--------------------------------------------------------------------------------\n",
            "Epoch 17 of 50\n",
            "Training...\n"
          ]
        },
        {
          "output_type": "stream",
          "name": "stderr",
          "text": [
            "100%|██████████| 1130/1130 [06:45<00:00,  2.79it/s]\n"
          ]
        },
        {
          "output_type": "stream",
          "name": "stdout",
          "text": [
            "Validating...\n"
          ]
        },
        {
          "output_type": "stream",
          "name": "stderr",
          "text": [
            "100%|██████████| 120/120 [00:26<00:00,  4.47it/s]\n"
          ]
        },
        {
          "output_type": "stream",
          "name": "stdout",
          "text": [
            "Val loss did not improve\n",
            "Train Acc: 0.8221 | Val Acc: 0.7806\n",
            "Train Loss: 0.4353 | Val Loss: 0.4949\n",
            "Train AUC: 0.8290 | Val AUC: 0.7428\n",
            "Val-Sensitivity. Abnormal: 0.9895, ACL: 0.9259, Meniscus: 0.8654\n",
            "Val-Specificity. Abnormal: 0.4800, ACL: 0.6667, Meniscus: 0.5294\n",
            "--------------------------------------------------------------------------------\n",
            "Epoch 18 of 50\n",
            "Training...\n"
          ]
        },
        {
          "output_type": "stream",
          "name": "stderr",
          "text": [
            "100%|██████████| 1130/1130 [06:25<00:00,  2.93it/s]\n"
          ]
        },
        {
          "output_type": "stream",
          "name": "stdout",
          "text": [
            "Validating...\n"
          ]
        },
        {
          "output_type": "stream",
          "name": "stderr",
          "text": [
            "100%|██████████| 120/120 [00:24<00:00,  4.87it/s]\n"
          ]
        },
        {
          "output_type": "stream",
          "name": "stdout",
          "text": [
            "Val loss did not improve\n",
            "Train Acc: 0.8301 | Val Acc: 0.7750\n",
            "Train Loss: 0.4198 | Val Loss: 0.5132\n",
            "Train AUC: 0.8408 | Val AUC: 0.7306\n",
            "Val-Sensitivity. Abnormal: 0.9895, ACL: 0.6296, Meniscus: 0.9038\n",
            "Val-Specificity. Abnormal: 0.4800, ACL: 0.9394, Meniscus: 0.4412\n",
            "--------------------------------------------------------------------------------\n",
            "Epoch 19 of 50\n",
            "Training...\n"
          ]
        },
        {
          "output_type": "stream",
          "name": "stderr",
          "text": [
            "100%|██████████| 1130/1130 [06:50<00:00,  2.75it/s]\n"
          ]
        },
        {
          "output_type": "stream",
          "name": "stdout",
          "text": [
            "Validating...\n"
          ]
        },
        {
          "output_type": "stream",
          "name": "stderr",
          "text": [
            "100%|██████████| 120/120 [00:24<00:00,  4.85it/s]\n"
          ]
        },
        {
          "output_type": "stream",
          "name": "stdout",
          "text": [
            "Val loss did not improve\n",
            "Train Acc: 0.8460 | Val Acc: 0.7750\n",
            "Train Loss: 0.3774 | Val Loss: 0.4354\n",
            "Train AUC: 0.8528 | Val AUC: 0.7413\n",
            "Val-Sensitivity. Abnormal: 0.9368, ACL: 0.6852, Meniscus: 0.8269\n",
            "Val-Specificity. Abnormal: 0.5600, ACL: 0.9242, Meniscus: 0.5147\n",
            "--------------------------------------------------------------------------------\n",
            "Epoch 20 of 50\n",
            "Training...\n"
          ]
        },
        {
          "output_type": "stream",
          "name": "stderr",
          "text": [
            "100%|██████████| 1130/1130 [06:46<00:00,  2.78it/s]\n"
          ]
        },
        {
          "output_type": "stream",
          "name": "stdout",
          "text": [
            "Validating...\n"
          ]
        },
        {
          "output_type": "stream",
          "name": "stderr",
          "text": [
            "100%|██████████| 120/120 [00:28<00:00,  4.27it/s]\n"
          ]
        },
        {
          "output_type": "stream",
          "name": "stdout",
          "text": [
            "Val loss did not improve\n",
            "Train Acc: 0.8484 | Val Acc: 0.7722\n",
            "Train Loss: 0.3754 | Val Loss: 0.4489\n",
            "Train AUC: 0.8606 | Val AUC: 0.7278\n",
            "Val-Sensitivity. Abnormal: 0.9474, ACL: 0.6481, Meniscus: 0.8077\n",
            "Val-Specificity. Abnormal: 0.4800, ACL: 0.9394, Meniscus: 0.5441\n",
            "--------------------------------------------------------------------------------\n",
            "Epoch 21 of 50\n",
            "Training...\n"
          ]
        },
        {
          "output_type": "stream",
          "name": "stderr",
          "text": [
            "100%|██████████| 1130/1130 [06:49<00:00,  2.76it/s]\n"
          ]
        },
        {
          "output_type": "stream",
          "name": "stdout",
          "text": [
            "Validating...\n"
          ]
        },
        {
          "output_type": "stream",
          "name": "stderr",
          "text": [
            "100%|██████████| 120/120 [00:25<00:00,  4.79it/s]\n"
          ]
        },
        {
          "output_type": "stream",
          "name": "stdout",
          "text": [
            "Val loss did not improve\n",
            "Train Acc: 0.8519 | Val Acc: 0.7833\n",
            "Train Loss: 0.3649 | Val Loss: 0.4355\n",
            "Train AUC: 0.8621 | Val AUC: 0.7415\n",
            "Val-Sensitivity. Abnormal: 0.9474, ACL: 0.6667, Meniscus: 0.7885\n",
            "Val-Specificity. Abnormal: 0.5200, ACL: 0.9091, Meniscus: 0.6176\n",
            "--------------------------------------------------------------------------------\n",
            "Epoch 22 of 50\n",
            "Training...\n"
          ]
        },
        {
          "output_type": "stream",
          "name": "stderr",
          "text": [
            "100%|██████████| 1130/1130 [06:41<00:00,  2.81it/s]\n"
          ]
        },
        {
          "output_type": "stream",
          "name": "stdout",
          "text": [
            "Validating...\n"
          ]
        },
        {
          "output_type": "stream",
          "name": "stderr",
          "text": [
            "100%|██████████| 120/120 [00:27<00:00,  4.38it/s]\n"
          ]
        },
        {
          "output_type": "stream",
          "name": "stdout",
          "text": [
            "Val loss did not improve\n",
            "Train Acc: 0.8593 | Val Acc: 0.7889\n",
            "Train Loss: 0.3633 | Val Loss: 0.4397\n",
            "Train AUC: 0.8734 | Val AUC: 0.7402\n",
            "Val-Sensitivity. Abnormal: 0.9579, ACL: 0.6481, Meniscus: 0.7692\n",
            "Val-Specificity. Abnormal: 0.4800, ACL: 0.9242, Meniscus: 0.6618\n",
            "--------------------------------------------------------------------------------\n",
            "Epoch 23 of 50\n",
            "Training...\n"
          ]
        },
        {
          "output_type": "stream",
          "name": "stderr",
          "text": [
            "100%|██████████| 1130/1130 [06:46<00:00,  2.78it/s]\n"
          ]
        },
        {
          "output_type": "stream",
          "name": "stdout",
          "text": [
            "Validating...\n"
          ]
        },
        {
          "output_type": "stream",
          "name": "stderr",
          "text": [
            "100%|██████████| 120/120 [00:26<00:00,  4.58it/s]\n"
          ]
        },
        {
          "output_type": "stream",
          "name": "stdout",
          "text": [
            "Val loss did not improve\n",
            "Train Acc: 0.8619 | Val Acc: 0.7861\n",
            "Train Loss: 0.3442 | Val Loss: 0.4407\n",
            "Train AUC: 0.8730 | Val AUC: 0.7438\n",
            "Val-Sensitivity. Abnormal: 0.9579, ACL: 0.7593, Meniscus: 0.8269\n",
            "Val-Specificity. Abnormal: 0.4800, ACL: 0.9091, Meniscus: 0.5294\n",
            "--------------------------------------------------------------------------------\n",
            "Epoch 24 of 50\n",
            "Training...\n"
          ]
        },
        {
          "output_type": "stream",
          "name": "stderr",
          "text": [
            "100%|██████████| 1130/1130 [06:40<00:00,  2.82it/s]\n"
          ]
        },
        {
          "output_type": "stream",
          "name": "stdout",
          "text": [
            "Validating...\n"
          ]
        },
        {
          "output_type": "stream",
          "name": "stderr",
          "text": [
            "100%|██████████| 120/120 [00:24<00:00,  4.82it/s]"
          ]
        },
        {
          "output_type": "stream",
          "name": "stdout",
          "text": [
            "Val loss did not improve\n",
            "Early stopping triggered. Training halted.\n"
          ]
        },
        {
          "output_type": "stream",
          "name": "stderr",
          "text": [
            "\n"
          ]
        }
      ]
    },
    {
      "cell_type": "code",
      "source": [
        "# Final Results Table\n",
        "final_results = {\n",
        "    \"Metric\": [\"Train Accuracy\", \"Val Accuracy\", \"Train AUC\", \"Val AUC\", \"Train Loss\", \"Val Loss\"],\n",
        "    \"Results\": [\n",
        "        train_accuracy[-1],\n",
        "        valid_accuracy[-1],\n",
        "        train_auc[-1],\n",
        "        valid_auc[-1],\n",
        "        train_loss[-1],\n",
        "        valid_loss[-1]\n",
        "    ]\n",
        "}\n",
        "final_df = pd.DataFrame(final_results)\n",
        "\n",
        "print(\"\\nFinal Results:\")\n",
        "print(final_df.to_string(index=False))\n"
      ],
      "metadata": {
        "colab": {
          "base_uri": "https://localhost:8080/"
        },
        "id": "2DNrWQCzHyqf",
        "outputId": "f9540987-ece0-42b7-9018-b6f69feb62f7"
      },
      "execution_count": 15,
      "outputs": [
        {
          "output_type": "stream",
          "name": "stdout",
          "text": [
            "\n",
            "Final Results:\n",
            "        Metric  Results\n",
            "Train Accuracy 0.861947\n",
            "  Val Accuracy 0.786111\n",
            "     Train AUC 0.873005\n",
            "       Val AUC 0.743763\n",
            "    Train Loss 0.344239\n",
            "      Val Loss 0.440723\n"
          ]
        }
      ]
    },
    {
      "cell_type": "code",
      "source": [
        "# Accuracy Plot\n",
        "plt.figure(figsize=(10, 6))\n",
        "plt.plot(range(1, len(train_accuracy) + 1), train_accuracy, label='Train Accuracy')\n",
        "plt.plot(range(1, len(valid_accuracy) + 1), valid_accuracy, label='Validation Accuracy')\n",
        "plt.xlabel(\"Epoch\")\n",
        "plt.ylabel(\"Accuracy\")\n",
        "plt.title(\"Accuracy per Epoch\")\n",
        "plt.legend()\n",
        "plt.grid(True)\n",
        "plt.savefig(f'{MRNET_PATH}/plots/accuracy_plot.png')\n",
        "plt.show()"
      ],
      "metadata": {
        "colab": {
          "base_uri": "https://localhost:8080/",
          "height": 564
        },
        "id": "L_PZVRx4IBct",
        "outputId": "88c96b3c-19b2-46ed-e0f9-88641d089462"
      },
      "execution_count": 16,
      "outputs": [
        {
          "output_type": "display_data",
          "data": {
            "text/plain": [
              "<Figure size 1000x600 with 1 Axes>"
            ],
            "image/png": "[encoded data removed]"
          },
          "metadata": {}
        }
      ]
    },
    {
      "cell_type": "code",
      "source": [
        "# Loss Plot\n",
        "plt.figure(figsize=(10, 6))\n",
        "plt.plot(range(1, len(train_loss) + 1), train_loss, label='Train Loss')\n",
        "plt.plot(range(1, len(valid_loss) + 1), valid_loss, label='Validation Loss')\n",
        "plt.xlabel(\"Epoch\")\n",
        "plt.ylabel(\"Loss\")\n",
        "plt.title(\"Loss per Epoch\")\n",
        "plt.legend()\n",
        "plt.grid(True)\n",
        "plt.savefig(f'{MRNET_PATH}/plots/loss_plot.png')\n",
        "plt.show()"
      ],
      "metadata": {
        "colab": {
          "base_uri": "https://localhost:8080/",
          "height": 564
        },
        "id": "fPne1Bd2ICj9",
        "outputId": "a85aa4a5-c038-4518-f4c5-88e9c3f6dcb7"
      },
      "execution_count": 17,
      "outputs": [
        {
          "output_type": "display_data",
          "data": {
            "text/plain": [
              "<Figure size 1000x600 with 1 Axes>"
            ],
            "image/png": "[encoded data removed]"
          },
          "metadata": {}
        }
      ]
    },
    {
      "cell_type": "code",
      "source": [
        "# AUC Plot\n",
        "plt.figure(figsize=(10, 6))\n",
        "plt.plot(range(1, len(train_auc) + 1), train_auc, label='Train AUC')\n",
        "plt.plot(range(1, len(valid_auc) + 1), valid_auc, label='Validation AUC')\n",
        "plt.xlabel(\"Epoch\")\n",
        "plt.ylabel(\"AUC\")\n",
        "plt.title(\"AUC per Epoch\")\n",
        "plt.legend()\n",
        "plt.grid(True)\n",
        "plt.savefig(f'{MRNET_PATH}/plots/auc_plot.png')\n",
        "plt.show()"
      ],
      "metadata": {
        "colab": {
          "base_uri": "https://localhost:8080/",
          "height": 564
        },
        "id": "PCTOtePmHwc_",
        "outputId": "2143efb4-c31d-4f8d-a308-8e96fd5d97ee"
      },
      "execution_count": 18,
      "outputs": [
        {
          "output_type": "display_data",
          "data": {
            "text/plain": [
              "<Figure size 1000x600 with 1 Axes>"
            ],
            "image/png": "[encoded data removed]"
          },
          "metadata": {}
        }
      ]
    }
  ]
}