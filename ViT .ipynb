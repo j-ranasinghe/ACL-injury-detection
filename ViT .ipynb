{
  "nbformat": 4,
  "nbformat_minor": 0,
  "metadata": {
    "colab": {
      "provenance": [],
      "gpuType": "T4"
    },
    "kernelspec": {
      "name": "python3",
      "display_name": "Python 3"
    },
    "language_info": {
      "name": "python"
    },
    "accelerator": "GPU",
    "widgets": {
      "application/vnd.jupyter.widget-state+json": {
        "ff3c9bf98e02406f963c6a4420581f80": {
          "model_module": "@jupyter-widgets/controls",
          "model_name": "HBoxModel",
          "model_module_version": "1.5.0",
          "state": {
            "_dom_classes": [],
            "_model_module": "@jupyter-widgets/controls",
            "_model_module_version": "1.5.0",
            "_model_name": "HBoxModel",
            "_view_count": null,
            "_view_module": "@jupyter-widgets/controls",
            "_view_module_version": "1.5.0",
            "_view_name": "HBoxView",
            "box_style": "",
            "children": [
              "IPY_MODEL_24fbcb685c2e423bbb517efd09f63673",
              "IPY_MODEL_ad9e8a583ab446bcaa0435a818fd4db6",
              "IPY_MODEL_0e93dd6ae7dd4a5dae84787c9d26701a"
            ],
            "layout": "IPY_MODEL_6cee42507d7b428fa0fea856d5983f17"
          }
        },
        "24fbcb685c2e423bbb517efd09f63673": {
          "model_module": "@jupyter-widgets/controls",
          "model_name": "HTMLModel",
          "model_module_version": "1.5.0",
          "state": {
            "_dom_classes": [],
            "_model_module": "@jupyter-widgets/controls",
            "_model_module_version": "1.5.0",
            "_model_name": "HTMLModel",
            "_view_count": null,
            "_view_module": "@jupyter-widgets/controls",
            "_view_module_version": "1.5.0",
            "_view_name": "HTMLView",
            "description": "",
            "description_tooltip": null,
            "layout": "IPY_MODEL_418354b466444b58bfd5846066e4fc53",
            "placeholder": "​",
            "style": "IPY_MODEL_9aeb81a479ed4b269704aed3e4430c6f",
            "value": "model.safetensors: 100%"
          }
        },
        "ad9e8a583ab446bcaa0435a818fd4db6": {
          "model_module": "@jupyter-widgets/controls",
          "model_name": "FloatProgressModel",
          "model_module_version": "1.5.0",
          "state": {
            "_dom_classes": [],
            "_model_module": "@jupyter-widgets/controls",
            "_model_module_version": "1.5.0",
            "_model_name": "FloatProgressModel",
            "_view_count": null,
            "_view_module": "@jupyter-widgets/controls",
            "_view_module_version": "1.5.0",
            "_view_name": "ProgressView",
            "bar_style": "success",
            "description": "",
            "description_tooltip": null,
            "layout": "IPY_MODEL_bf928504d147429e9fb79bf400e11efc",
            "max": 22883348,
            "min": 0,
            "orientation": "horizontal",
            "style": "IPY_MODEL_fb603ce41a7e44baaf8202aaeadc1423",
            "value": 22883348
          }
        },
        "0e93dd6ae7dd4a5dae84787c9d26701a": {
          "model_module": "@jupyter-widgets/controls",
          "model_name": "HTMLModel",
          "model_module_version": "1.5.0",
          "state": {
            "_dom_classes": [],
            "_model_module": "@jupyter-widgets/controls",
            "_model_module_version": "1.5.0",
            "_model_name": "HTMLModel",
            "_view_count": null,
            "_view_module": "@jupyter-widgets/controls",
            "_view_module_version": "1.5.0",
            "_view_name": "HTMLView",
            "description": "",
            "description_tooltip": null,
            "layout": "IPY_MODEL_23a1cdb5318c41cc86b56340de19f8a5",
            "placeholder": "​",
            "style": "IPY_MODEL_00ff9618185b4aa5bb553ce336c7784e",
            "value": " 22.9M/22.9M [00:00&lt;00:00, 57.4MB/s]"
          }
        },
        "6cee42507d7b428fa0fea856d5983f17": {
          "model_module": "@jupyter-widgets/base",
          "model_name": "LayoutModel",
          "model_module_version": "1.2.0",
          "state": {
            "_model_module": "@jupyter-widgets/base",
            "_model_module_version": "1.2.0",
            "_model_name": "LayoutModel",
            "_view_count": null,
            "_view_module": "@jupyter-widgets/base",
            "_view_module_version": "1.2.0",
            "_view_name": "LayoutView",
            "align_content": null,
            "align_items": null,
            "align_self": null,
            "border": null,
            "bottom": null,
            "display": null,
            "flex": null,
            "flex_flow": null,
            "grid_area": null,
            "grid_auto_columns": null,
            "grid_auto_flow": null,
            "grid_auto_rows": null,
            "grid_column": null,
            "grid_gap": null,
            "grid_row": null,
            "grid_template_areas": null,
            "grid_template_columns": null,
            "grid_template_rows": null,
            "height": null,
            "justify_content": null,
            "justify_items": null,
            "left": null,
            "margin": null,
            "max_height": null,
            "max_width": null,
            "min_height": null,
            "min_width": null,
            "object_fit": null,
            "object_position": null,
            "order": null,
            "overflow": null,
            "overflow_x": null,
            "overflow_y": null,
            "padding": null,
            "right": null,
            "top": null,
            "visibility": null,
            "width": null
          }
        },
        "418354b466444b58bfd5846066e4fc53": {
          "model_module": "@jupyter-widgets/base",
          "model_name": "LayoutModel",
          "model_module_version": "1.2.0",
          "state": {
            "_model_module": "@jupyter-widgets/base",
            "_model_module_version": "1.2.0",
            "_model_name": "LayoutModel",
            "_view_count": null,
            "_view_module": "@jupyter-widgets/base",
            "_view_module_version": "1.2.0",
            "_view_name": "LayoutView",
            "align_content": null,
            "align_items": null,
            "align_self": null,
            "border": null,
            "bottom": null,
            "display": null,
            "flex": null,
            "flex_flow": null,
            "grid_area": null,
            "grid_auto_columns": null,
            "grid_auto_flow": null,
            "grid_auto_rows": null,
            "grid_column": null,
            "grid_gap": null,
            "grid_row": null,
            "grid_template_areas": null,
            "grid_template_columns": null,
            "grid_template_rows": null,
            "height": null,
            "justify_content": null,
            "justify_items": null,
            "left": null,
            "margin": null,
            "max_height": null,
            "max_width": null,
            "min_height": null,
            "min_width": null,
            "object_fit": null,
            "object_position": null,
            "order": null,
            "overflow": null,
            "overflow_x": null,
            "overflow_y": null,
            "padding": null,
            "right": null,
            "top": null,
            "visibility": null,
            "width": null
          }
        },
        "9aeb81a479ed4b269704aed3e4430c6f": {
          "model_module": "@jupyter-widgets/controls",
          "model_name": "DescriptionStyleModel",
          "model_module_version": "1.5.0",
          "state": {
            "_model_module": "@jupyter-widgets/controls",
            "_model_module_version": "1.5.0",
            "_model_name": "DescriptionStyleModel",
            "_view_count": null,
            "_view_module": "@jupyter-widgets/base",
            "_view_module_version": "1.2.0",
            "_view_name": "StyleView",
            "description_width": ""
          }
        },
        "bf928504d147429e9fb79bf400e11efc": {
          "model_module": "@jupyter-widgets/base",
          "model_name": "LayoutModel",
          "model_module_version": "1.2.0",
          "state": {
            "_model_module": "@jupyter-widgets/base",
            "_model_module_version": "1.2.0",
            "_model_name": "LayoutModel",
            "_view_count": null,
            "_view_module": "@jupyter-widgets/base",
            "_view_module_version": "1.2.0",
            "_view_name": "LayoutView",
            "align_content": null,
            "align_items": null,
            "align_self": null,
            "border": null,
            "bottom": null,
            "display": null,
            "flex": null,
            "flex_flow": null,
            "grid_area": null,
            "grid_auto_columns": null,
            "grid_auto_flow": null,
            "grid_auto_rows": null,
            "grid_column": null,
            "grid_gap": null,
            "grid_row": null,
            "grid_template_areas": null,
            "grid_template_columns": null,
            "grid_template_rows": null,
            "height": null,
            "justify_content": null,
            "justify_items": null,
            "left": null,
            "margin": null,
            "max_height": null,
            "max_width": null,
            "min_height": null,
            "min_width": null,
            "object_fit": null,
            "object_position": null,
            "order": null,
            "overflow": null,
            "overflow_x": null,
            "overflow_y": null,
            "padding": null,
            "right": null,
            "top": null,
            "visibility": null,
            "width": null
          }
        },
        "fb603ce41a7e44baaf8202aaeadc1423": {
          "model_module": "@jupyter-widgets/controls",
          "model_name": "ProgressStyleModel",
          "model_module_version": "1.5.0",
          "state": {
            "_model_module": "@jupyter-widgets/controls",
            "_model_module_version": "1.5.0",
            "_model_name": "ProgressStyleModel",
            "_view_count": null,
            "_view_module": "@jupyter-widgets/base",
            "_view_module_version": "1.2.0",
            "_view_name": "StyleView",
            "bar_color": null,
            "description_width": ""
          }
        },
        "23a1cdb5318c41cc86b56340de19f8a5": {
          "model_module": "@jupyter-widgets/base",
          "model_name": "LayoutModel",
          "model_module_version": "1.2.0",
          "state": {
            "_model_module": "@jupyter-widgets/base",
            "_model_module_version": "1.2.0",
            "_model_name": "LayoutModel",
            "_view_count": null,
            "_view_module": "@jupyter-widgets/base",
            "_view_module_version": "1.2.0",
            "_view_name": "LayoutView",
            "align_content": null,
            "align_items": null,
            "align_self": null,
            "border": null,
            "bottom": null,
            "display": null,
            "flex": null,
            "flex_flow": null,
            "grid_area": null,
            "grid_auto_columns": null,
            "grid_auto_flow": null,
            "grid_auto_rows": null,
            "grid_column": null,
            "grid_gap": null,
            "grid_row": null,
            "grid_template_areas": null,
            "grid_template_columns": null,
            "grid_template_rows": null,
            "height": null,
            "justify_content": null,
            "justify_items": null,
            "left": null,
            "margin": null,
            "max_height": null,
            "max_width": null,
            "min_height": null,
            "min_width": null,
            "object_fit": null,
            "object_position": null,
            "order": null,
            "overflow": null,
            "overflow_x": null,
            "overflow_y": null,
            "padding": null,
            "right": null,
            "top": null,
            "visibility": null,
            "width": null
          }
        },
        "00ff9618185b4aa5bb553ce336c7784e": {
          "model_module": "@jupyter-widgets/controls",
          "model_name": "DescriptionStyleModel",
          "model_module_version": "1.5.0",
          "state": {
            "_model_module": "@jupyter-widgets/controls",
            "_model_module_version": "1.5.0",
            "_model_name": "DescriptionStyleModel",
            "_view_count": null,
            "_view_module": "@jupyter-widgets/base",
            "_view_module_version": "1.2.0",
            "_view_name": "StyleView",
            "description_width": ""
          }
        }
      }
    }
  },
  "cells": [
    {
      "cell_type": "markdown",
      "source": [
        "# **Detection of ACL injuries using Vision Transformer**  - 2022\n",
        "\n",
        "\n",
        "*   Dataset used is [MRNet](https://stanfordmlgroup.github.io/competitions/mrnet/)\n",
        "\n",
        "\n",
        "\n",
        "\n",
        "\n",
        "\n",
        "\n",
        "\n",
        "\n"
      ],
      "metadata": {
        "id": "vISuFssyFZsQ"
      }
    },
    {
      "cell_type": "code",
      "source": [
        "import os\n",
        "import timm\n",
        "import torch\n",
        "import torch.nn as nn\n",
        "import numpy as np\n",
        "import pandas as pd\n",
        "from torch.utils import data\n",
        "import matplotlib.pyplot as plt\n",
        "from tabulate import tabulate\n",
        "from tqdm import tqdm\n",
        "from sklearn import metrics\n",
        "import imgaug.augmenters as iaa\n",
        "import torch.nn.functional as F\n",
        "import torch.backends.cudnn as cudnn\n",
        "from google.colab import drive"
      ],
      "metadata": {
        "id": "djva_ARgP3yQ"
      },
      "execution_count": null,
      "outputs": []
    },
    {
      "cell_type": "code",
      "source": [
        "drive.mount('/content/drive')"
      ],
      "metadata": {
        "id": "T-N_doT5E9wH"
      },
      "execution_count": null,
      "outputs": []
    },
    {
      "cell_type": "code",
      "source": [
        "# Constants\n",
        "MRNET_PATH = '/content/drive/MyDrive/MRNet-v1.0/'\n",
        "TRAIN_PATH = '/content/drive/MyDrive/MRNet-v1.0/train/'\n",
        "VAL_PATH = '/content/drive/MyDrive/MRNet-v1.0/valid/'\n",
        "BATCH_SIZE = 16\n",
        "RANDOM_STATE = 1234\n",
        "EPOCHS = 50\n",
        "PATIENT = 10\n",
        "LOSS_IMPROVE = 1e-04\n",
        "MAX_PIXEL_VALUE = 255"
      ],
      "metadata": {
        "id": "LHm0hyQFP8Cw"
      },
      "execution_count": null,
      "outputs": []
    },
    {
      "cell_type": "code",
      "source": [
        "# Seeds\n",
        "torch.manual_seed(RANDOM_STATE)\n",
        "torch.cuda.manual_seed(RANDOM_STATE)\n",
        "np.random.seed(RANDOM_STATE)\n",
        "torch.backends.cudnn.deterministic = True"
      ],
      "metadata": {
        "id": "RxmqAtO1QCuA"
      },
      "execution_count": null,
      "outputs": []
    },
    {
      "cell_type": "code",
      "source": [
        "class MRDataset(data.Dataset):\n",
        "    def __init__(self, transform=False, train=True, train_index_limit=1130, target_size=(224, 224)):\n",
        "        super().__init__()\n",
        "        self.transform = transform\n",
        "        self.train = train\n",
        "        self.target_size = target_size\n",
        "        self.records = pd.read_csv(MRNET_PATH + '/knee_metadata.csv')\n",
        "        self.train_index_limit = train_index_limit\n",
        "        self.planes = ['axial', 'sagittal', 'coronal']\n",
        "        self.image_path = {}\n",
        "\n",
        "        if self.train:\n",
        "            for plane in self.planes:\n",
        "                self.image_path[plane] = TRAIN_PATH + '/{0}/'.format(plane)\n",
        "            self.records = self.records.iloc[0:self.train_index_limit, :]\n",
        "        else:\n",
        "            for plane in self.planes:\n",
        "                self.image_path[plane] = VAL_PATH + '/{0}/'.format(plane)\n",
        "            self.records = self.records.iloc[self.train_index_limit:, :]\n",
        "\n",
        "        self.records['Image'] = self.records['Image'].map(lambda i: '0' * (4 - len(str(i))) + str(i))\n",
        "        self.paths = {}\n",
        "        for plane in self.planes:\n",
        "            self.paths[plane] = [self.image_path[plane] + filename + '.npy' for filename in self.records['Image'].tolist()]\n",
        "\n",
        "        self.labels = self.records[['Abnormal', 'ACL', 'Meniscus']].values\n",
        "        weights_ = []\n",
        "        for disease in range(3):\n",
        "            pos = sum(self.labels[:, disease])\n",
        "            neg = len(self.labels[:, disease]) - pos\n",
        "            weights_.append(neg / pos)\n",
        "        self.weights = torch.FloatTensor(weights_)\n",
        "\n",
        "    def __len__(self):\n",
        "        return len(self.records)\n",
        "\n",
        "    def resize_image(self, img):\n",
        "        \"\"\"\n",
        "        Resizes the image to the target size.\n",
        "        Ensures the tensor has the correct shape for 2D resizing.\n",
        "        \"\"\"\n",
        "        if img.ndim == 3:\n",
        "            img = img[0]\n",
        "        img = torch.FloatTensor(img)\n",
        "        img = img.unsqueeze(0).unsqueeze(0)\n",
        "        img = F.interpolate(img, size=self.target_size, mode='bilinear', align_corners=False)\n",
        "        return img.squeeze(0)\n",
        "\n",
        "\n",
        "    def __getitem__(self, index):\n",
        "        transform = iaa.Sequential([\n",
        "            iaa.Fliplr(0.5),\n",
        "            iaa.Affine(\n",
        "                translate_percent={\"x\": (-0.11, 0.11), \"y\": (-0.11, 0.11)},\n",
        "                scale={\"x\": (1, 1.2), \"y\": (1, 1.2)},\n",
        "                rotate=(-10, 10)\n",
        "            )\n",
        "        ])\n",
        "\n",
        "        img_raw = {}\n",
        "        for plane in self.planes:\n",
        "            img = np.load(self.paths[plane][index])\n",
        "            img = img / MAX_PIXEL_VALUE\n",
        "\n",
        "            if self.transform:\n",
        "                img = transform(images=img)\n",
        "\n",
        "            img = self.resize_image(img)\n",
        "            img_raw[plane] = img.repeat(3, 1, 1)\n",
        "\n",
        "        label = torch.FloatTensor(self.labels[index])\n",
        "        return [img_raw[plane] for plane in self.planes], label"
      ],
      "metadata": {
        "id": "UEuV4vPKQH97"
      },
      "execution_count": null,
      "outputs": []
    },
    {
      "cell_type": "code",
      "source": [
        "class VisionTransformerMRNet(nn.Module):\n",
        "    def __init__(self, model_name='vit_tiny_patch16_224'):\n",
        "        super(VisionTransformerMRNet, self).__init__()\n",
        "        # Initialize ViT models for each view\n",
        "        self.vit_axial = timm.create_model(model_name, pretrained=True, in_chans=3)\n",
        "        self.vit_sagittal = timm.create_model(model_name, pretrained=True, in_chans=3)\n",
        "        self.vit_coronal = timm.create_model(model_name, pretrained=True, in_chans=3)\n",
        "\n",
        "        # Update the classifier head\n",
        "        num_features = self.vit_axial.head.in_features\n",
        "        self.vit_axial.head = nn.Identity()\n",
        "        self.vit_sagittal.head = nn.Identity()\n",
        "        self.vit_coronal.head = nn.Identity()\n",
        "\n",
        "        # Classifier combining outputs from all three views\n",
        "        self.classifier = nn.Sequential(\n",
        "            nn.Linear(num_features * 3, 512),\n",
        "            nn.ReLU(),\n",
        "            nn.Dropout(0.3),\n",
        "            nn.Linear(512, 3)\n",
        "        )\n",
        "\n",
        "        # Attention weights for multi-view fusion\n",
        "        self.attention_weights = nn.Parameter(torch.ones(3) / 3)\n",
        "\n",
        "    def forward(self, x):\n",
        "        # Get features from each ViT\n",
        "        x_axial = self.vit_axial(x[0])\n",
        "        x_sagittal = self.vit_sagittal(x[1])\n",
        "        x_coronal = self.vit_coronal(x[2])\n",
        "\n",
        "        # Weighted fusion of features\n",
        "        weights = torch.softmax(self.attention_weights, dim=0)\n",
        "        x_axial = x_axial * weights[0]\n",
        "        x_sagittal = x_sagittal * weights[1]\n",
        "        x_coronal = x_coronal * weights[2]\n",
        "\n",
        "        # Combine features and classify\n",
        "        combined = torch.cat([x_axial, x_sagittal, x_coronal], dim=1)\n",
        "        return self.classifier(combined)\n"
      ],
      "metadata": {
        "id": "6QoWAKYhiEcT"
      },
      "execution_count": null,
      "outputs": []
    },
    {
      "cell_type": "code",
      "source": [
        "def get_sensitivity_specificity(y_true, y_pred):\n",
        "    abnormal_true = list(map(lambda x: x[0], y_true))\n",
        "    abnormal_pred = list(map(lambda x: x[0], y_pred))\n",
        "    ACL_true = list(map(lambda x: x[1], y_true))\n",
        "    ACL_pred = list(map(lambda x: x[1], y_pred))\n",
        "    meniscus_true = list(map(lambda x: x[2], y_true))\n",
        "    meniscus_pred = list(map(lambda x: x[2], y_pred))\n",
        "\n",
        "    tn_ab, fp_ab, fn_ab, tp_ab = metrics.confusion_matrix(abnormal_true, abnormal_pred).ravel()\n",
        "    tn_acl, fp_acl, fn_acl, tp_acl = metrics.confusion_matrix(ACL_true, ACL_pred).ravel()\n",
        "    tn_men, fp_men, fn_men, tp_men = metrics.confusion_matrix(meniscus_true, meniscus_pred).ravel()\n",
        "\n",
        "    sensitivity = [round(tp_ab / (tp_ab + fn_ab), 4), round(tp_acl / (tp_acl + fn_acl), 4), round(tp_men / (tp_men + fn_men), 4)]\n",
        "    specificity = [round(tn_ab / (tn_ab + fp_ab), 4), round(tn_acl / (tn_acl + fp_acl), 4), round(tn_men / (tn_men + fp_men), 4)]\n",
        "    return sensitivity, specificity"
      ],
      "metadata": {
        "id": "zaVwbwSxQRgo"
      },
      "execution_count": null,
      "outputs": []
    },
    {
      "cell_type": "code",
      "source": [
        "def train(train_data, model, criterion):\n",
        "    model.train()\n",
        "    counter = 0\n",
        "    correct = 0\n",
        "    train_running_loss = 0.0\n",
        "    total = 0.0\n",
        "    prediction_list = []\n",
        "    label_list = []\n",
        "\n",
        "    for input_data, label in tqdm(train_data):\n",
        "        input_data = [data.to(device) for data in input_data]\n",
        "        label = label.to(device)\n",
        "\n",
        "        counter += 1\n",
        "        optimizer.zero_grad()\n",
        "\n",
        "        with torch.cuda.amp.autocast():\n",
        "            outputs = model(input_data)\n",
        "            outputs_sig = torch.sigmoid(outputs)\n",
        "            predicted = torch.round(outputs_sig)\n",
        "\n",
        "            prediction_list.append(list(predicted.cpu().detach().numpy())[0])\n",
        "            label_list.append(list(label.cpu().detach().numpy())[0])\n",
        "\n",
        "            total += label.size(1)\n",
        "            correct += (np.array(predicted.cpu().detach().numpy())[0] ==\n",
        "                       np.array(label.cpu().detach().numpy())[0]).sum().item()\n",
        "\n",
        "            loss = criterion(outputs, label)\n",
        "\n",
        "        scaler.scale(loss).backward()\n",
        "        scaler.step(optimizer)\n",
        "        scaler.update()\n",
        "\n",
        "        train_running_loss += loss.item()\n",
        "\n",
        "    train_accuracy = correct / total\n",
        "    train_loss = train_running_loss / counter\n",
        "    train_auc = metrics.roc_auc_score(label_list, prediction_list, average='macro', multi_class='ovr')\n",
        "\n",
        "    return train_loss, train_accuracy, train_auc, prediction_list"
      ],
      "metadata": {
        "id": "nGo0GiNwQTxw"
      },
      "execution_count": null,
      "outputs": []
    },
    {
      "cell_type": "code",
      "source": [
        "def val(val_data, model, criterion):\n",
        "    model.eval()\n",
        "    counter = 0\n",
        "    correct = 0\n",
        "    val_running_loss = 0.0\n",
        "    total = 0.0\n",
        "    prediction_list = []\n",
        "    label_list = []\n",
        "\n",
        "    with torch.no_grad():\n",
        "        for input_data, label in tqdm(val_data):\n",
        "            input_data = [data.to(device) for data in input_data]\n",
        "            label = label.to(device)\n",
        "\n",
        "            counter += 1\n",
        "            outputs = model(input_data)\n",
        "            outputs_sig = torch.sigmoid(outputs)\n",
        "            predicted = torch.round(outputs_sig)\n",
        "\n",
        "            prediction_list.append(list(predicted.cpu().detach().numpy())[0])\n",
        "            label_list.append(list(label.cpu().detach().numpy())[0])\n",
        "\n",
        "            total += label.size(1)\n",
        "            correct += (np.array(predicted.cpu().detach().numpy())[0] ==\n",
        "                       np.array(label.cpu().detach().numpy())[0]).sum().item()\n",
        "\n",
        "            loss = criterion(outputs, label)\n",
        "            val_running_loss += loss.item()\n",
        "\n",
        "    val_accuracy = correct / total\n",
        "    val_loss = val_running_loss / counter\n",
        "    val_auc = metrics.roc_auc_score(label_list, prediction_list, average='macro', multi_class='ovr')\n",
        "    sensitivity, specificity = get_sensitivity_specificity(label_list, prediction_list)\n",
        "\n",
        "    return val_loss, val_accuracy, val_auc, prediction_list, sensitivity, specificity"
      ],
      "metadata": {
        "id": "JBOiUlp1QXfZ"
      },
      "execution_count": null,
      "outputs": []
    },
    {
      "cell_type": "code",
      "source": [
        "# Initialize datasets and loaders\n",
        "train_dataset = MRDataset(transform=True, target_size=(224, 224))\n",
        "val_dataset = MRDataset(train=False, target_size=(224, 224))\n",
        "\n",
        "train_loader = torch.utils.data.DataLoader(\n",
        "    train_dataset,\n",
        "    batch_size=BATCH_SIZE,\n",
        "    shuffle=True,\n",
        "    num_workers=2,\n",
        "    pin_memory=True\n",
        ")\n",
        "\n",
        "val_loader = torch.utils.data.DataLoader(\n",
        "    val_dataset,\n",
        "    batch_size=BATCH_SIZE,\n",
        "    shuffle=False,\n",
        "    num_workers=2,\n",
        "    pin_memory=True\n",
        ")"
      ],
      "metadata": {
        "id": "DusbhQZeQbTg"
      },
      "execution_count": null,
      "outputs": []
    },
    {
      "cell_type": "code",
      "source": [
        "# Model and optimization setup\n",
        "model = VisionTransformerMRNet(model_name='vit_tiny_patch16_224').to(device)\n",
        "train_criterion = nn.BCEWithLogitsLoss(pos_weight=train_dataset.weights.to(device))\n",
        "val_criterion = nn.BCEWithLogitsLoss(pos_weight=val_dataset.weights.to(device))\n",
        "optimizer = torch.optim.AdamW(model.parameters(),  lr=1e-05, weight_decay=0.01)\n",
        "scheduler = torch.optim.lr_scheduler.CosineAnnealingLR(optimizer, T_max=EPOCHS)\n",
        "scaler = torch.cuda.amp.GradScaler()"
      ],
      "metadata": {
        "colab": {
          "base_uri": "https://localhost:8080/",
          "height": 195,
          "referenced_widgets": [
            "ff3c9bf98e02406f963c6a4420581f80",
            "24fbcb685c2e423bbb517efd09f63673",
            "ad9e8a583ab446bcaa0435a818fd4db6",
            "0e93dd6ae7dd4a5dae84787c9d26701a",
            "6cee42507d7b428fa0fea856d5983f17",
            "418354b466444b58bfd5846066e4fc53",
            "9aeb81a479ed4b269704aed3e4430c6f",
            "bf928504d147429e9fb79bf400e11efc",
            "fb603ce41a7e44baaf8202aaeadc1423",
            "23a1cdb5318c41cc86b56340de19f8a5",
            "00ff9618185b4aa5bb553ce336c7784e"
          ]
        },
        "id": "WXUpBNE0Qdhf",
        "outputId": "9bd96eea-8f5c-4e28-ac28-ee0f53f7ebf7"
      },
      "execution_count": null,
      "outputs": [
        {
          "output_type": "stream",
          "name": "stderr",
          "text": [
            "/usr/local/lib/python3.10/dist-packages/huggingface_hub/utils/_auth.py:94: UserWarning: \n",
            "The secret `HF_TOKEN` does not exist in your Colab secrets.\n",
            "To authenticate with the Hugging Face Hub, create a token in your settings tab (https://huggingface.co/settings/tokens), set it as secret in your Google Colab and restart your session.\n",
            "You will be able to reuse this secret in all of your notebooks.\n",
            "Please note that authentication is recommended but still optional to access public models or datasets.\n",
            "  warnings.warn(\n"
          ]
        },
        {
          "output_type": "display_data",
          "data": {
            "text/plain": [
              "model.safetensors:   0%|          | 0.00/22.9M [00:00<?, ?B/s]"
            ],
            "application/vnd.jupyter.widget-view+json": {
              "version_major": 2,
              "version_minor": 0,
              "model_id": "ff3c9bf98e02406f963c6a4420581f80"
            }
          },
          "metadata": {}
        },
        {
          "output_type": "stream",
          "name": "stderr",
          "text": [
            "<ipython-input-14-d24827fc6819>:8: FutureWarning: `torch.cuda.amp.GradScaler(args...)` is deprecated. Please use `torch.amp.GradScaler('cuda', args...)` instead.\n",
            "  scaler = torch.cuda.amp.GradScaler()\n"
          ]
        }
      ]
    },
    {
      "cell_type": "code",
      "source": [
        "# Early Stopping Parameters\n",
        "best_val_loss = float('inf')\n",
        "early_stopping_patience = PATIENT  # Number of epochs to wait before stopping\n",
        "patient_counter = 0\n",
        "\n",
        "# Track Best Metrics\n",
        "best_metrics = {\n",
        "    'epoch': 0,\n",
        "    'val_accuracy': 0.0,\n",
        "    'val_auc': 0.0,\n",
        "    'val_sensitivity': [0.0, 0.0, 0.0],\n",
        "    'val_specificity': [0.0, 0.0, 0.0]\n",
        "}\n",
        "\n",
        "# Lists to store metrics for plotting\n",
        "train_accuracies, val_accuracies = [], []\n",
        "train_aucs, val_aucs = [], []\n",
        "\n",
        "for epoch in range(EPOCHS):\n",
        "    print(f\"Epoch {epoch+1} of {EPOCHS}\")\n",
        "\n",
        "    train_epoch_loss, train_epoch_accuracy, train_epoch_auc, train_predictions = train(\n",
        "        train_loader, model, train_criterion)\n",
        "\n",
        "    val_epoch_loss, val_epoch_accuracy, val_epoch_auc, val_predictions, val_sensitivity, val_specificity = val(\n",
        "        val_loader, model, val_criterion)\n",
        "\n",
        "    scheduler.step()\n",
        "\n",
        "    # Check for improvement in validation loss\n",
        "    if val_epoch_loss < best_val_loss - LOSS_IMPROVE:\n",
        "        print(f\"Validation loss improved from {best_val_loss:.4f} to {val_epoch_loss:.4f}. Saving model...\")\n",
        "        best_val_loss = val_epoch_loss\n",
        "        patient_counter = 0\n",
        "        torch.save(model.state_dict(), f'{MRNET_PATH}/models/vit_mrnet_model_best.pth')\n",
        "\n",
        "        # Update best metrics\n",
        "        best_metrics.update({\n",
        "            'epoch': epoch + 1,\n",
        "            'val_accuracy': val_epoch_accuracy,\n",
        "            'val_auc': val_epoch_auc,\n",
        "            'val_sensitivity': val_sensitivity,\n",
        "            'val_specificity': val_specificity\n",
        "        })\n",
        "    else:\n",
        "        print(\"Validation loss did not improve.\")\n",
        "        patient_counter += 1\n",
        "\n",
        "    # Early stopping\n",
        "    if patient_counter >= early_stopping_patience:\n",
        "        print(\"Early stopping triggered. Training halted.\")\n",
        "        break\n",
        "\n",
        "    # Store epoch metrics for plotting\n",
        "    train_accuracies.append(train_epoch_accuracy)\n",
        "    val_accuracies.append(val_epoch_accuracy)\n",
        "    train_aucs.append(train_epoch_auc)\n",
        "    val_aucs.append(val_epoch_auc)\n",
        "\n",
        "    print(f\"Train Acc: {train_epoch_accuracy:.4f} | Val Acc: {val_epoch_accuracy:.4f}\")\n",
        "    print(f\"Train Loss: {train_epoch_loss:.4f} | Val Loss: {val_epoch_loss:.4f}\")\n",
        "    print(f\"Train AUC: {train_epoch_auc:.4f} | Val AUC: {val_epoch_auc:.4f}\")\n",
        "    print(\"Val-Sensitivity. Abnormal: {:.4f}, ACL: {:.4f}, Meniscus: {:.4f}\".format(*val_sensitivity))\n",
        "    print(\"Val-Specificity. Abnormal: {:.4f}, ACL: {:.4f}, Meniscus: {:.4f}\".format(*val_specificity))\n",
        "    print(\"-\" * 80)"
      ],
      "metadata": {
        "colab": {
          "base_uri": "https://localhost:8080/"
        },
        "id": "SXZH87fuaUU_",
        "outputId": "c9192d80-ca69-43bd-8153-70a96ddb105e"
      },
      "execution_count": null,
      "outputs": [
        {
          "output_type": "stream",
          "name": "stdout",
          "text": [
            "Epoch 1 of 50\n"
          ]
        },
        {
          "output_type": "stream",
          "name": "stderr",
          "text": [
            "\r  0%|          | 0/71 [00:00<?, ?it/s]<ipython-input-11-a4e1e4cadd8d>:17: FutureWarning: `torch.cuda.amp.autocast(args...)` is deprecated. Please use `torch.amp.autocast('cuda', args...)` instead.\n",
            "  with torch.cuda.amp.autocast():\n",
            "100%|██████████| 71/71 [14:43<00:00, 12.45s/it]\n",
            "100%|██████████| 8/8 [01:34<00:00, 11.83s/it]\n"
          ]
        },
        {
          "output_type": "stream",
          "name": "stdout",
          "text": [
            "Validation loss improved from inf to 0.5966. Saving model...\n",
            "Train Acc: 0.5634 | Val Acc: 0.7083\n",
            "Train Loss: 0.7506 | Val Loss: 0.5966\n",
            "Train AUC: 0.5426 | Val AUC: 0.7056\n",
            "Val-Sensitivity. Abnormal: 0.8333, ACL: 0.0000, Meniscus: 1.0000\n",
            "Val-Specificity. Abnormal: 1.0000, ACL: 1.0000, Meniscus: 0.4000\n",
            "--------------------------------------------------------------------------------\n",
            "Epoch 2 of 50\n"
          ]
        },
        {
          "output_type": "stream",
          "name": "stderr",
          "text": [
            "\r  0%|          | 0/71 [00:00<?, ?it/s]<ipython-input-11-a4e1e4cadd8d>:17: FutureWarning: `torch.cuda.amp.autocast(args...)` is deprecated. Please use `torch.amp.autocast('cuda', args...)` instead.\n",
            "  with torch.cuda.amp.autocast():\n",
            "100%|██████████| 71/71 [03:46<00:00,  3.19s/it]\n",
            "100%|██████████| 8/8 [00:05<00:00,  1.42it/s]\n"
          ]
        },
        {
          "output_type": "stream",
          "name": "stdout",
          "text": [
            "Validation loss improved from 0.5966 to 0.5625. Saving model...\n",
            "Train Acc: 0.6714 | Val Acc: 0.7083\n",
            "Train Loss: 0.7135 | Val Loss: 0.5625\n",
            "Train AUC: 0.6956 | Val AUC: 0.7500\n",
            "Val-Sensitivity. Abnormal: 0.8333, ACL: 0.6667, Meniscus: 1.0000\n",
            "Val-Specificity. Abnormal: 1.0000, ACL: 0.6000, Meniscus: 0.4000\n",
            "--------------------------------------------------------------------------------\n",
            "Epoch 3 of 50\n"
          ]
        },
        {
          "output_type": "stream",
          "name": "stderr",
          "text": [
            "\r  0%|          | 0/71 [00:00<?, ?it/s]<ipython-input-11-a4e1e4cadd8d>:17: FutureWarning: `torch.cuda.amp.autocast(args...)` is deprecated. Please use `torch.amp.autocast('cuda', args...)` instead.\n",
            "  with torch.cuda.amp.autocast():\n",
            "100%|██████████| 71/71 [03:32<00:00,  2.99s/it]\n",
            "100%|██████████| 8/8 [00:06<00:00,  1.33it/s]\n"
          ]
        },
        {
          "output_type": "stream",
          "name": "stdout",
          "text": [
            "Validation loss improved from 0.5625 to 0.5501. Saving model...\n",
            "Train Acc: 0.7887 | Val Acc: 0.6667\n",
            "Train Loss: 0.6652 | Val Loss: 0.5501\n",
            "Train AUC: 0.7926 | Val AUC: 0.6889\n",
            "Val-Sensitivity. Abnormal: 1.0000, ACL: 0.6667, Meniscus: 0.6667\n",
            "Val-Specificity. Abnormal: 1.0000, ACL: 0.4000, Meniscus: 0.4000\n",
            "--------------------------------------------------------------------------------\n",
            "Epoch 4 of 50\n"
          ]
        },
        {
          "output_type": "stream",
          "name": "stderr",
          "text": [
            "\r  0%|          | 0/71 [00:00<?, ?it/s]<ipython-input-11-a4e1e4cadd8d>:17: FutureWarning: `torch.cuda.amp.autocast(args...)` is deprecated. Please use `torch.amp.autocast('cuda', args...)` instead.\n",
            "  with torch.cuda.amp.autocast():\n",
            "100%|██████████| 71/71 [03:32<00:00,  2.99s/it]\n",
            "100%|██████████| 8/8 [00:06<00:00,  1.32it/s]\n"
          ]
        },
        {
          "output_type": "stream",
          "name": "stdout",
          "text": [
            "Validation loss improved from 0.5501 to 0.5422. Saving model...\n",
            "Train Acc: 0.7653 | Val Acc: 0.7083\n",
            "Train Loss: 0.6339 | Val Loss: 0.5422\n",
            "Train AUC: 0.7904 | Val AUC: 0.7444\n",
            "Val-Sensitivity. Abnormal: 1.0000, ACL: 0.6667, Meniscus: 1.0000\n",
            "Val-Specificity. Abnormal: 1.0000, ACL: 0.4000, Meniscus: 0.4000\n",
            "--------------------------------------------------------------------------------\n",
            "Epoch 5 of 50\n"
          ]
        },
        {
          "output_type": "stream",
          "name": "stderr",
          "text": [
            "  0%|          | 0/71 [00:00<?, ?it/s]<ipython-input-11-a4e1e4cadd8d>:17: FutureWarning: `torch.cuda.amp.autocast(args...)` is deprecated. Please use `torch.amp.autocast('cuda', args...)` instead.\n",
            "  with torch.cuda.amp.autocast():\n",
            "100%|██████████| 71/71 [03:30<00:00,  2.97s/it]\n",
            "100%|██████████| 8/8 [00:05<00:00,  1.44it/s]\n"
          ]
        },
        {
          "output_type": "stream",
          "name": "stdout",
          "text": [
            "Validation loss improved from 0.5422 to 0.5351. Saving model...\n",
            "Train Acc: 0.7653 | Val Acc: 0.7083\n",
            "Train Loss: 0.6079 | Val Loss: 0.5351\n",
            "Train AUC: 0.7888 | Val AUC: 0.7056\n",
            "Val-Sensitivity. Abnormal: 0.8333, ACL: 0.3333, Meniscus: 0.6667\n",
            "Val-Specificity. Abnormal: 1.0000, ACL: 1.0000, Meniscus: 0.4000\n",
            "--------------------------------------------------------------------------------\n",
            "Epoch 6 of 50\n"
          ]
        },
        {
          "output_type": "stream",
          "name": "stderr",
          "text": [
            "  0%|          | 0/71 [00:00<?, ?it/s]<ipython-input-11-a4e1e4cadd8d>:17: FutureWarning: `torch.cuda.amp.autocast(args...)` is deprecated. Please use `torch.amp.autocast('cuda', args...)` instead.\n",
            "  with torch.cuda.amp.autocast():\n",
            "100%|██████████| 71/71 [03:30<00:00,  2.96s/it]\n",
            "100%|██████████| 8/8 [00:06<00:00,  1.21it/s]\n"
          ]
        },
        {
          "output_type": "stream",
          "name": "stdout",
          "text": [
            "Validation loss improved from 0.5351 to 0.5232. Saving model...\n",
            "Train Acc: 0.7277 | Val Acc: 0.7083\n",
            "Train Loss: 0.5921 | Val Loss: 0.5232\n",
            "Train AUC: 0.7261 | Val AUC: 0.7222\n",
            "Val-Sensitivity. Abnormal: 1.0000, ACL: 0.3333, Meniscus: 1.0000\n",
            "Val-Specificity. Abnormal: 1.0000, ACL: 0.6000, Meniscus: 0.4000\n",
            "--------------------------------------------------------------------------------\n",
            "Epoch 7 of 50\n"
          ]
        },
        {
          "output_type": "stream",
          "name": "stderr",
          "text": [
            "\r  0%|          | 0/71 [00:00<?, ?it/s]<ipython-input-11-a4e1e4cadd8d>:17: FutureWarning: `torch.cuda.amp.autocast(args...)` is deprecated. Please use `torch.amp.autocast('cuda', args...)` instead.\n",
            "  with torch.cuda.amp.autocast():\n",
            "100%|██████████| 71/71 [03:35<00:00,  3.03s/it]\n",
            "100%|██████████| 8/8 [00:06<00:00,  1.18it/s]\n"
          ]
        },
        {
          "output_type": "stream",
          "name": "stdout",
          "text": [
            "Validation loss improved from 0.5232 to 0.5218. Saving model...\n",
            "Train Acc: 0.7840 | Val Acc: 0.6667\n",
            "Train Loss: 0.5685 | Val Loss: 0.5218\n",
            "Train AUC: 0.7715 | Val AUC: 0.6889\n",
            "Val-Sensitivity. Abnormal: 1.0000, ACL: 0.3333, Meniscus: 1.0000\n",
            "Val-Specificity. Abnormal: 1.0000, ACL: 0.4000, Meniscus: 0.4000\n",
            "--------------------------------------------------------------------------------\n",
            "Epoch 8 of 50\n"
          ]
        },
        {
          "output_type": "stream",
          "name": "stderr",
          "text": [
            "\r  0%|          | 0/71 [00:00<?, ?it/s]<ipython-input-11-a4e1e4cadd8d>:17: FutureWarning: `torch.cuda.amp.autocast(args...)` is deprecated. Please use `torch.amp.autocast('cuda', args...)` instead.\n",
            "  with torch.cuda.amp.autocast():\n",
            "100%|██████████| 71/71 [03:48<00:00,  3.22s/it]\n",
            "100%|██████████| 8/8 [00:06<00:00,  1.16it/s]\n"
          ]
        },
        {
          "output_type": "stream",
          "name": "stdout",
          "text": [
            "Validation loss did not improve.\n",
            "Train Acc: 0.7606 | Val Acc: 0.7500\n",
            "Train Loss: 0.5440 | Val Loss: 0.5267\n",
            "Train AUC: 0.7618 | Val AUC: 0.7556\n",
            "Val-Sensitivity. Abnormal: 1.0000, ACL: 0.3333, Meniscus: 1.0000\n",
            "Val-Specificity. Abnormal: 1.0000, ACL: 0.8000, Meniscus: 0.4000\n",
            "--------------------------------------------------------------------------------\n",
            "Epoch 9 of 50\n"
          ]
        },
        {
          "output_type": "stream",
          "name": "stderr",
          "text": [
            "  0%|          | 0/71 [00:00<?, ?it/s]<ipython-input-11-a4e1e4cadd8d>:17: FutureWarning: `torch.cuda.amp.autocast(args...)` is deprecated. Please use `torch.amp.autocast('cuda', args...)` instead.\n",
            "  with torch.cuda.amp.autocast():\n",
            "100%|██████████| 71/71 [03:30<00:00,  2.96s/it]\n",
            "100%|██████████| 8/8 [00:05<00:00,  1.37it/s]\n"
          ]
        },
        {
          "output_type": "stream",
          "name": "stdout",
          "text": [
            "Validation loss did not improve.\n",
            "Train Acc: 0.7700 | Val Acc: 0.7500\n",
            "Train Loss: 0.5185 | Val Loss: 0.5304\n",
            "Train AUC: 0.8087 | Val AUC: 0.7778\n",
            "Val-Sensitivity. Abnormal: 1.0000, ACL: 0.6667, Meniscus: 1.0000\n",
            "Val-Specificity. Abnormal: 1.0000, ACL: 0.6000, Meniscus: 0.4000\n",
            "--------------------------------------------------------------------------------\n",
            "Epoch 10 of 50\n"
          ]
        },
        {
          "output_type": "stream",
          "name": "stderr",
          "text": [
            "\r  0%|          | 0/71 [00:00<?, ?it/s]<ipython-input-11-a4e1e4cadd8d>:17: FutureWarning: `torch.cuda.amp.autocast(args...)` is deprecated. Please use `torch.amp.autocast('cuda', args...)` instead.\n",
            "  with torch.cuda.amp.autocast():\n",
            "100%|██████████| 71/71 [03:51<00:00,  3.26s/it]\n",
            "100%|██████████| 8/8 [00:05<00:00,  1.41it/s]\n"
          ]
        },
        {
          "output_type": "stream",
          "name": "stdout",
          "text": [
            "Validation loss did not improve.\n",
            "Train Acc: 0.7793 | Val Acc: 0.8333\n",
            "Train Loss: 0.4841 | Val Loss: 0.5226\n",
            "Train AUC: 0.7872 | Val AUC: 0.8667\n",
            "Val-Sensitivity. Abnormal: 1.0000, ACL: 1.0000, Meniscus: 1.0000\n",
            "Val-Specificity. Abnormal: 1.0000, ACL: 0.8000, Meniscus: 0.4000\n",
            "--------------------------------------------------------------------------------\n",
            "Epoch 11 of 50\n"
          ]
        },
        {
          "output_type": "stream",
          "name": "stderr",
          "text": [
            "\r  0%|          | 0/71 [00:00<?, ?it/s]<ipython-input-11-a4e1e4cadd8d>:17: FutureWarning: `torch.cuda.amp.autocast(args...)` is deprecated. Please use `torch.amp.autocast('cuda', args...)` instead.\n",
            "  with torch.cuda.amp.autocast():\n",
            "100%|██████████| 71/71 [03:52<00:00,  3.27s/it]\n",
            "100%|██████████| 8/8 [00:05<00:00,  1.36it/s]\n"
          ]
        },
        {
          "output_type": "stream",
          "name": "stdout",
          "text": [
            "Validation loss improved from 0.5218 to 0.5214. Saving model...\n",
            "Train Acc: 0.8263 | Val Acc: 0.7083\n",
            "Train Loss: 0.4666 | Val Loss: 0.5214\n",
            "Train AUC: 0.8333 | Val AUC: 0.7222\n",
            "Val-Sensitivity. Abnormal: 1.0000, ACL: 0.6667, Meniscus: 0.6667\n",
            "Val-Specificity. Abnormal: 1.0000, ACL: 0.6000, Meniscus: 0.4000\n",
            "--------------------------------------------------------------------------------\n",
            "Epoch 12 of 50\n"
          ]
        },
        {
          "output_type": "stream",
          "name": "stderr",
          "text": [
            "\r  0%|          | 0/71 [00:00<?, ?it/s]<ipython-input-11-a4e1e4cadd8d>:17: FutureWarning: `torch.cuda.amp.autocast(args...)` is deprecated. Please use `torch.amp.autocast('cuda', args...)` instead.\n",
            "  with torch.cuda.amp.autocast():\n",
            "100%|██████████| 71/71 [03:33<00:00,  3.01s/it]\n",
            "100%|██████████| 8/8 [00:05<00:00,  1.38it/s]\n"
          ]
        },
        {
          "output_type": "stream",
          "name": "stdout",
          "text": [
            "Validation loss improved from 0.5214 to 0.5177. Saving model...\n",
            "Train Acc: 0.8122 | Val Acc: 0.7917\n",
            "Train Loss: 0.4517 | Val Loss: 0.5177\n",
            "Train AUC: 0.8063 | Val AUC: 0.8111\n",
            "Val-Sensitivity. Abnormal: 1.0000, ACL: 0.6667, Meniscus: 1.0000\n",
            "Val-Specificity. Abnormal: 1.0000, ACL: 0.8000, Meniscus: 0.4000\n",
            "--------------------------------------------------------------------------------\n",
            "Epoch 13 of 50\n"
          ]
        },
        {
          "output_type": "stream",
          "name": "stderr",
          "text": [
            "\r  0%|          | 0/71 [00:00<?, ?it/s]<ipython-input-11-a4e1e4cadd8d>:17: FutureWarning: `torch.cuda.amp.autocast(args...)` is deprecated. Please use `torch.amp.autocast('cuda', args...)` instead.\n",
            "  with torch.cuda.amp.autocast():\n",
            "100%|██████████| 71/71 [03:48<00:00,  3.22s/it]\n",
            "100%|██████████| 8/8 [00:05<00:00,  1.37it/s]\n"
          ]
        },
        {
          "output_type": "stream",
          "name": "stdout",
          "text": [
            "Validation loss did not improve.\n",
            "Train Acc: 0.8028 | Val Acc: 0.7500\n",
            "Train Loss: 0.4241 | Val Loss: 0.5428\n",
            "Train AUC: 0.8158 | Val AUC: 0.7778\n",
            "Val-Sensitivity. Abnormal: 1.0000, ACL: 0.6667, Meniscus: 1.0000\n",
            "Val-Specificity. Abnormal: 1.0000, ACL: 0.6000, Meniscus: 0.4000\n",
            "--------------------------------------------------------------------------------\n",
            "Epoch 14 of 50\n"
          ]
        },
        {
          "output_type": "stream",
          "name": "stderr",
          "text": [
            "\r  0%|          | 0/71 [00:00<?, ?it/s]<ipython-input-11-a4e1e4cadd8d>:17: FutureWarning: `torch.cuda.amp.autocast(args...)` is deprecated. Please use `torch.amp.autocast('cuda', args...)` instead.\n",
            "  with torch.cuda.amp.autocast():\n",
            "100%|██████████| 71/71 [03:36<00:00,  3.06s/it]\n",
            "100%|██████████| 8/8 [00:06<00:00,  1.23it/s]\n"
          ]
        },
        {
          "output_type": "stream",
          "name": "stdout",
          "text": [
            "Validation loss did not improve.\n",
            "Train Acc: 0.8451 | Val Acc: 0.7500\n",
            "Train Loss: 0.4217 | Val Loss: 0.5412\n",
            "Train AUC: 0.8640 | Val AUC: 0.7778\n",
            "Val-Sensitivity. Abnormal: 1.0000, ACL: 0.6667, Meniscus: 1.0000\n",
            "Val-Specificity. Abnormal: 1.0000, ACL: 0.6000, Meniscus: 0.4000\n",
            "--------------------------------------------------------------------------------\n",
            "Epoch 15 of 50\n"
          ]
        },
        {
          "output_type": "stream",
          "name": "stderr",
          "text": [
            "  0%|          | 0/71 [00:00<?, ?it/s]<ipython-input-11-a4e1e4cadd8d>:17: FutureWarning: `torch.cuda.amp.autocast(args...)` is deprecated. Please use `torch.amp.autocast('cuda', args...)` instead.\n",
            "  with torch.cuda.amp.autocast():\n",
            "100%|██████████| 71/71 [03:39<00:00,  3.10s/it]\n",
            "100%|██████████| 8/8 [00:07<00:00,  1.11it/s]\n"
          ]
        },
        {
          "output_type": "stream",
          "name": "stdout",
          "text": [
            "Validation loss did not improve.\n",
            "Train Acc: 0.8545 | Val Acc: 0.8333\n",
            "Train Loss: 0.3881 | Val Loss: 0.5428\n",
            "Train AUC: 0.8572 | Val AUC: 0.8444\n",
            "Val-Sensitivity. Abnormal: 1.0000, ACL: 0.6667, Meniscus: 1.0000\n",
            "Val-Specificity. Abnormal: 1.0000, ACL: 0.8000, Meniscus: 0.6000\n",
            "--------------------------------------------------------------------------------\n",
            "Epoch 16 of 50\n"
          ]
        },
        {
          "output_type": "stream",
          "name": "stderr",
          "text": [
            "  0%|          | 0/71 [00:00<?, ?it/s]<ipython-input-11-a4e1e4cadd8d>:17: FutureWarning: `torch.cuda.amp.autocast(args...)` is deprecated. Please use `torch.amp.autocast('cuda', args...)` instead.\n",
            "  with torch.cuda.amp.autocast():\n",
            "100%|██████████| 71/71 [03:36<00:00,  3.04s/it]\n",
            "100%|██████████| 8/8 [00:07<00:00,  1.10it/s]\n"
          ]
        },
        {
          "output_type": "stream",
          "name": "stdout",
          "text": [
            "Validation loss did not improve.\n",
            "Train Acc: 0.8732 | Val Acc: 0.7500\n",
            "Train Loss: 0.3553 | Val Loss: 0.5422\n",
            "Train AUC: 0.8954 | Val AUC: 0.7778\n",
            "Val-Sensitivity. Abnormal: 1.0000, ACL: 0.6667, Meniscus: 1.0000\n",
            "Val-Specificity. Abnormal: 1.0000, ACL: 0.6000, Meniscus: 0.4000\n",
            "--------------------------------------------------------------------------------\n",
            "Epoch 17 of 50\n"
          ]
        },
        {
          "output_type": "stream",
          "name": "stderr",
          "text": [
            "\r  0%|          | 0/71 [00:00<?, ?it/s]<ipython-input-11-a4e1e4cadd8d>:17: FutureWarning: `torch.cuda.amp.autocast(args...)` is deprecated. Please use `torch.amp.autocast('cuda', args...)` instead.\n",
            "  with torch.cuda.amp.autocast():\n",
            "100%|██████████| 71/71 [03:41<00:00,  3.12s/it]\n",
            "100%|██████████| 8/8 [00:06<00:00,  1.24it/s]\n"
          ]
        },
        {
          "output_type": "stream",
          "name": "stdout",
          "text": [
            "Validation loss did not improve.\n",
            "Train Acc: 0.8498 | Val Acc: 0.7500\n",
            "Train Loss: 0.3452 | Val Loss: 0.5564\n",
            "Train AUC: 0.8812 | Val AUC: 0.7778\n",
            "Val-Sensitivity. Abnormal: 1.0000, ACL: 0.6667, Meniscus: 1.0000\n",
            "Val-Specificity. Abnormal: 1.0000, ACL: 0.6000, Meniscus: 0.4000\n",
            "--------------------------------------------------------------------------------\n",
            "Epoch 18 of 50\n"
          ]
        },
        {
          "output_type": "stream",
          "name": "stderr",
          "text": [
            "\r  0%|          | 0/71 [00:00<?, ?it/s]<ipython-input-11-a4e1e4cadd8d>:17: FutureWarning: `torch.cuda.amp.autocast(args...)` is deprecated. Please use `torch.amp.autocast('cuda', args...)` instead.\n",
            "  with torch.cuda.amp.autocast():\n",
            "100%|██████████| 71/71 [03:40<00:00,  3.10s/it]\n",
            "100%|██████████| 8/8 [00:07<00:00,  1.10it/s]\n"
          ]
        },
        {
          "output_type": "stream",
          "name": "stdout",
          "text": [
            "Validation loss did not improve.\n",
            "Train Acc: 0.8216 | Val Acc: 0.7500\n",
            "Train Loss: 0.3322 | Val Loss: 0.5577\n",
            "Train AUC: 0.8053 | Val AUC: 0.7778\n",
            "Val-Sensitivity. Abnormal: 1.0000, ACL: 0.6667, Meniscus: 1.0000\n",
            "Val-Specificity. Abnormal: 1.0000, ACL: 0.6000, Meniscus: 0.4000\n",
            "--------------------------------------------------------------------------------\n",
            "Epoch 19 of 50\n"
          ]
        },
        {
          "output_type": "stream",
          "name": "stderr",
          "text": [
            "  0%|          | 0/71 [00:00<?, ?it/s]<ipython-input-11-a4e1e4cadd8d>:17: FutureWarning: `torch.cuda.amp.autocast(args...)` is deprecated. Please use `torch.amp.autocast('cuda', args...)` instead.\n",
            "  with torch.cuda.amp.autocast():\n",
            "100%|██████████| 71/71 [03:53<00:00,  3.28s/it]\n",
            "100%|██████████| 8/8 [00:06<00:00,  1.23it/s]\n"
          ]
        },
        {
          "output_type": "stream",
          "name": "stdout",
          "text": [
            "Validation loss did not improve.\n",
            "Train Acc: 0.7887 | Val Acc: 0.7917\n",
            "Train Loss: 0.3043 | Val Loss: 0.5863\n",
            "Train AUC: 0.7962 | Val AUC: 0.7889\n",
            "Val-Sensitivity. Abnormal: 1.0000, ACL: 0.3333, Meniscus: 1.0000\n",
            "Val-Specificity. Abnormal: 1.0000, ACL: 0.8000, Meniscus: 0.6000\n",
            "--------------------------------------------------------------------------------\n",
            "Epoch 20 of 50\n"
          ]
        },
        {
          "output_type": "stream",
          "name": "stderr",
          "text": [
            "\r  0%|          | 0/71 [00:00<?, ?it/s]<ipython-input-11-a4e1e4cadd8d>:17: FutureWarning: `torch.cuda.amp.autocast(args...)` is deprecated. Please use `torch.amp.autocast('cuda', args...)` instead.\n",
            "  with torch.cuda.amp.autocast():\n",
            "100%|██████████| 71/71 [03:40<00:00,  3.11s/it]\n",
            "100%|██████████| 8/8 [00:06<00:00,  1.25it/s]\n"
          ]
        },
        {
          "output_type": "stream",
          "name": "stdout",
          "text": [
            "Validation loss did not improve.\n",
            "Train Acc: 0.9202 | Val Acc: 0.7500\n",
            "Train Loss: 0.2892 | Val Loss: 0.5961\n",
            "Train AUC: 0.9257 | Val AUC: 0.7556\n",
            "Val-Sensitivity. Abnormal: 1.0000, ACL: 0.3333, Meniscus: 1.0000\n",
            "Val-Specificity. Abnormal: 1.0000, ACL: 0.8000, Meniscus: 0.4000\n",
            "--------------------------------------------------------------------------------\n",
            "Epoch 21 of 50\n"
          ]
        },
        {
          "output_type": "stream",
          "name": "stderr",
          "text": [
            "\r  0%|          | 0/71 [00:00<?, ?it/s]<ipython-input-11-a4e1e4cadd8d>:17: FutureWarning: `torch.cuda.amp.autocast(args...)` is deprecated. Please use `torch.amp.autocast('cuda', args...)` instead.\n",
            "  with torch.cuda.amp.autocast():\n",
            "100%|██████████| 71/71 [03:36<00:00,  3.06s/it]\n",
            "100%|██████████| 8/8 [00:07<00:00,  1.09it/s]\n"
          ]
        },
        {
          "output_type": "stream",
          "name": "stdout",
          "text": [
            "Validation loss did not improve.\n",
            "Train Acc: 0.8685 | Val Acc: 0.7917\n",
            "Train Loss: 0.2690 | Val Loss: 0.5706\n",
            "Train AUC: 0.8754 | Val AUC: 0.8111\n",
            "Val-Sensitivity. Abnormal: 1.0000, ACL: 0.6667, Meniscus: 1.0000\n",
            "Val-Specificity. Abnormal: 1.0000, ACL: 0.8000, Meniscus: 0.4000\n",
            "--------------------------------------------------------------------------------\n",
            "Epoch 22 of 50\n"
          ]
        },
        {
          "output_type": "stream",
          "name": "stderr",
          "text": [
            "\r  0%|          | 0/71 [00:00<?, ?it/s]<ipython-input-11-a4e1e4cadd8d>:17: FutureWarning: `torch.cuda.amp.autocast(args...)` is deprecated. Please use `torch.amp.autocast('cuda', args...)` instead.\n",
            "  with torch.cuda.amp.autocast():\n",
            "100%|██████████| 71/71 [03:37<00:00,  3.06s/it]\n",
            "100%|██████████| 8/8 [00:06<00:00,  1.20it/s]"
          ]
        },
        {
          "output_type": "stream",
          "name": "stdout",
          "text": [
            "Validation loss did not improve.\n",
            "Early stopping triggered. Training halted.\n"
          ]
        },
        {
          "output_type": "stream",
          "name": "stderr",
          "text": [
            "\n"
          ]
        }
      ]
    },
    {
      "cell_type": "code",
      "source": [
        "# Print Final Metrics\n",
        "print(\"\\nTraining Complete!\")\n",
        "print(\"\\nFinal Metrics:\")\n",
        "final_table = [\n",
        "    [\"Metric\", \"Abnormal\", \"ACL\", \"Meniscus\"],\n",
        "    [\"Sensitivity\"] + best_metrics['val_sensitivity'],\n",
        "    [\"Specificity\"] + best_metrics['val_specificity'],\n",
        "]\n",
        "print(tabulate(final_table, headers=\"firstrow\", tablefmt=\"grid\"))\n",
        "print(f\"Best Epoch: {best_metrics['epoch']}\")\n",
        "print(f\"Best Validation Accuracy: {best_metrics['val_accuracy']:.4f}\")\n",
        "print(f\"Best Validation AUC: {best_metrics['val_auc']:.4f}\")"
      ],
      "metadata": {
        "colab": {
          "base_uri": "https://localhost:8080/"
        },
        "id": "uahGrXrKajrA",
        "outputId": "229cf633-63d1-48eb-8cf1-195cb90d52a4"
      },
      "execution_count": null,
      "outputs": [
        {
          "output_type": "stream",
          "name": "stdout",
          "text": [
            "\n",
            "Training Complete!\n",
            "\n",
            "Final Metrics:\n",
            "+-------------+------------+--------+------------+\n",
            "| Metric      |   Abnormal |    ACL |   Meniscus |\n",
            "+=============+============+========+============+\n",
            "| Sensitivity |          1 | 0.6667 |        1   |\n",
            "+-------------+------------+--------+------------+\n",
            "| Specificity |          1 | 0.8    |        0.4 |\n",
            "+-------------+------------+--------+------------+\n",
            "Best Epoch: 12\n",
            "Best Validation Accuracy: 0.7917\n",
            "Best Validation AUC: 0.8111\n"
          ]
        }
      ]
    },
    {
      "cell_type": "code",
      "source": [
        "# Plot Metrics\n",
        "plt.figure(figsize=(12, 6))\n",
        "\n",
        "# Accuracy Plot\n",
        "plt.subplot(1, 2, 1)\n",
        "plt.plot(range(1, len(train_accuracies) + 1), train_accuracies, label='Train Accuracy')\n",
        "plt.plot(range(1, len(val_accuracies) + 1), val_accuracies, label='Validation Accuracy')\n",
        "plt.xlabel('Epochs')\n",
        "plt.ylabel('Accuracy')\n",
        "plt.title('Training and Validation Accuracy')\n",
        "plt.legend()\n",
        "\n",
        "# AUC Plot\n",
        "plt.subplot(1, 2, 2)\n",
        "plt.plot(range(1, len(train_aucs) + 1), train_aucs, label='Train AUC')\n",
        "plt.plot(range(1, len(val_aucs) + 1), val_aucs, label='Validation AUC')\n",
        "plt.xlabel('Epochs')\n",
        "plt.ylabel('AUC')\n",
        "plt.title('Training and Validation AUC')\n",
        "plt.legend()\n",
        "\n",
        "plt.tight_layout()\n",
        "plt.savefig(f'{MRNET_PATH}/training_validation_metrics.png')\n",
        "plt.show()\n"
      ],
      "metadata": {
        "colab": {
          "base_uri": "https://localhost:8080/",
          "height": 607
        },
        "id": "r7MUFp-1aWyy",
        "outputId": "978636b3-8ead-4d80-defc-bf4ea7b529ea"
      },
      "execution_count": null,
      "outputs": [
        {
          "output_type": "display_data",
          "data": {
            "text/plain": [
              "<Figure size 1200x600 with 2 Axes>"
            ],
            "image/png": "[encoded data removed]"
          },
          "metadata": {}
        }
      ]
    }
  ]
}